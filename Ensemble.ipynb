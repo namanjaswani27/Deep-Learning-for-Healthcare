{
 "cells": [
  {
   "cell_type": "code",
   "execution_count": 1,
   "id": "secure-candle",
   "metadata": {
    "_cell_guid": "b1076dfc-b9ad-4769-8c92-a6c4dae69d19",
    "_uuid": "8f2839f25d086af736a60e9eeb907d3b93b6e0e5",
    "execution": {
     "iopub.execute_input": "2021-04-25T17:52:18.154504Z",
     "iopub.status.busy": "2021-04-25T17:52:18.153304Z",
     "iopub.status.idle": "2021-04-25T17:52:18.161058Z",
     "shell.execute_reply": "2021-04-25T17:52:18.161525Z"
    },
    "papermill": {
     "duration": 0.021642,
     "end_time": "2021-04-25T17:52:18.161828",
     "exception": false,
     "start_time": "2021-04-25T17:52:18.140186",
     "status": "completed"
    },
    "tags": []
   },
   "outputs": [],
   "source": [
    "import numpy as np\n",
    "import pandas as pd"
   ]
  },
  {
   "cell_type": "code",
   "execution_count": 2,
   "id": "mounted-deficit",
   "metadata": {
    "execution": {
     "iopub.execute_input": "2021-04-25T17:52:18.181434Z",
     "iopub.status.busy": "2021-04-25T17:52:18.180861Z",
     "iopub.status.idle": "2021-04-25T17:52:18.312318Z",
     "shell.execute_reply": "2021-04-25T17:52:18.311674Z"
    },
    "papermill": {
     "duration": 0.14208,
     "end_time": "2021-04-25T17:52:18.312453",
     "exception": false,
     "start_time": "2021-04-25T17:52:18.170373",
     "status": "completed"
    },
    "tags": []
   },
   "outputs": [],
   "source": [
    "softmax = pd.read_csv('../input/ensemble-dlcv/Pred_Softmax.csv')\n",
    "sigmoid = pd.read_csv('../input/ensemble-dlcv/Predictions_Sigmoid_95.csv')\n",
    "soft_crop = pd.read_csv('../input/ensemble-dlcv/Predictions_crop.csv')\n",
    "\n",
    "pred_2 = pd.read_csv('../input/pratik-preds/Predictions2.csv')\n",
    "pred_3 = pd.read_csv('../input/pratik-preds2/Predictions3.csv')\n"
   ]
  },
  {
   "cell_type": "code",
   "execution_count": 3,
   "id": "exclusive-evans",
   "metadata": {
    "execution": {
     "iopub.execute_input": "2021-04-25T17:52:18.338398Z",
     "iopub.status.busy": "2021-04-25T17:52:18.337723Z",
     "iopub.status.idle": "2021-04-25T17:52:18.354568Z",
     "shell.execute_reply": "2021-04-25T17:52:18.355045Z"
    },
    "papermill": {
     "duration": 0.034292,
     "end_time": "2021-04-25T17:52:18.355244",
     "exception": false,
     "start_time": "2021-04-25T17:52:18.320952",
     "status": "completed"
    },
    "tags": []
   },
   "outputs": [
    {
     "data": {
      "text/html": [
       "<div>\n",
       "<style scoped>\n",
       "    .dataframe tbody tr th:only-of-type {\n",
       "        vertical-align: middle;\n",
       "    }\n",
       "\n",
       "    .dataframe tbody tr th {\n",
       "        vertical-align: top;\n",
       "    }\n",
       "\n",
       "    .dataframe thead th {\n",
       "        text-align: right;\n",
       "    }\n",
       "</style>\n",
       "<table border=\"1\" class=\"dataframe\">\n",
       "  <thead>\n",
       "    <tr style=\"text-align: right;\">\n",
       "      <th></th>\n",
       "      <th>Id</th>\n",
       "      <th>0</th>\n",
       "      <th>1</th>\n",
       "    </tr>\n",
       "  </thead>\n",
       "  <tbody>\n",
       "    <tr>\n",
       "      <th>0</th>\n",
       "      <td>01e2cc7b8ec040b2bc5794d55f9a8532.jpg,  7b7f6b...</td>\n",
       "      <td>1.000000</td>\n",
       "      <td>1.063015e-20</td>\n",
       "    </tr>\n",
       "    <tr>\n",
       "      <th>1</th>\n",
       "      <td>a9bf53389e4d4354ba2864c5032b3a0e.jpg,  77a504...</td>\n",
       "      <td>1.000000</td>\n",
       "      <td>1.981709e-08</td>\n",
       "    </tr>\n",
       "    <tr>\n",
       "      <th>2</th>\n",
       "      <td>8984d1413a864b30858d1af6ff1e88fa.jpg,  5af039...</td>\n",
       "      <td>1.000000</td>\n",
       "      <td>7.374984e-13</td>\n",
       "    </tr>\n",
       "    <tr>\n",
       "      <th>3</th>\n",
       "      <td>b98220e97ce2476ea0c3ae031cb55fd5.jpg,  a961c8...</td>\n",
       "      <td>0.905969</td>\n",
       "      <td>9.403141e-02</td>\n",
       "    </tr>\n",
       "    <tr>\n",
       "      <th>4</th>\n",
       "      <td>81ee5f002023462d9a0994f4e92e6459.jpg,  4bc96a...</td>\n",
       "      <td>0.999998</td>\n",
       "      <td>1.587039e-06</td>\n",
       "    </tr>\n",
       "  </tbody>\n",
       "</table>\n",
       "</div>"
      ],
      "text/plain": [
       "                                                  Id         0             1\n",
       "0   01e2cc7b8ec040b2bc5794d55f9a8532.jpg,  7b7f6b...  1.000000  1.063015e-20\n",
       "1   a9bf53389e4d4354ba2864c5032b3a0e.jpg,  77a504...  1.000000  1.981709e-08\n",
       "2   8984d1413a864b30858d1af6ff1e88fa.jpg,  5af039...  1.000000  7.374984e-13\n",
       "3   b98220e97ce2476ea0c3ae031cb55fd5.jpg,  a961c8...  0.905969  9.403141e-02\n",
       "4   81ee5f002023462d9a0994f4e92e6459.jpg,  4bc96a...  0.999998  1.587039e-06"
      ]
     },
     "execution_count": 3,
     "metadata": {},
     "output_type": "execute_result"
    }
   ],
   "source": [
    "pred_3.head()"
   ]
  },
  {
   "cell_type": "code",
   "execution_count": 4,
   "id": "waiting-potter",
   "metadata": {
    "execution": {
     "iopub.execute_input": "2021-04-25T17:52:18.376349Z",
     "iopub.status.busy": "2021-04-25T17:52:18.375769Z",
     "iopub.status.idle": "2021-04-25T17:52:18.406788Z",
     "shell.execute_reply": "2021-04-25T17:52:18.406023Z"
    },
    "papermill": {
     "duration": 0.042415,
     "end_time": "2021-04-25T17:52:18.406926",
     "exception": false,
     "start_time": "2021-04-25T17:52:18.364511",
     "status": "completed"
    },
    "tags": []
   },
   "outputs": [
    {
     "data": {
      "text/html": [
       "<div>\n",
       "<style scoped>\n",
       "    .dataframe tbody tr th:only-of-type {\n",
       "        vertical-align: middle;\n",
       "    }\n",
       "\n",
       "    .dataframe tbody tr th {\n",
       "        vertical-align: top;\n",
       "    }\n",
       "\n",
       "    .dataframe thead th {\n",
       "        text-align: right;\n",
       "    }\n",
       "</style>\n",
       "<table border=\"1\" class=\"dataframe\">\n",
       "  <thead>\n",
       "    <tr style=\"text-align: right;\">\n",
       "      <th></th>\n",
       "      <th>Id</th>\n",
       "      <th>0</th>\n",
       "      <th>1</th>\n",
       "    </tr>\n",
       "  </thead>\n",
       "  <tbody>\n",
       "    <tr>\n",
       "      <th>0</th>\n",
       "      <td>01e2cc7b8ec040b2bc5794d55f9a8532.jpg,  7b7f6b...</td>\n",
       "      <td>1.000000</td>\n",
       "      <td>3.819886e-13</td>\n",
       "    </tr>\n",
       "    <tr>\n",
       "      <th>1</th>\n",
       "      <td>a9bf53389e4d4354ba2864c5032b3a0e.jpg,  77a504...</td>\n",
       "      <td>0.999999</td>\n",
       "      <td>1.258305e-06</td>\n",
       "    </tr>\n",
       "    <tr>\n",
       "      <th>2</th>\n",
       "      <td>8984d1413a864b30858d1af6ff1e88fa.jpg,  5af039...</td>\n",
       "      <td>0.999962</td>\n",
       "      <td>3.822244e-05</td>\n",
       "    </tr>\n",
       "    <tr>\n",
       "      <th>3</th>\n",
       "      <td>b98220e97ce2476ea0c3ae031cb55fd5.jpg,  a961c8...</td>\n",
       "      <td>0.999684</td>\n",
       "      <td>3.161281e-04</td>\n",
       "    </tr>\n",
       "    <tr>\n",
       "      <th>4</th>\n",
       "      <td>81ee5f002023462d9a0994f4e92e6459.jpg,  4bc96a...</td>\n",
       "      <td>0.999886</td>\n",
       "      <td>1.143720e-04</td>\n",
       "    </tr>\n",
       "  </tbody>\n",
       "</table>\n",
       "</div>"
      ],
      "text/plain": [
       "                                                  Id         0             1\n",
       "0   01e2cc7b8ec040b2bc5794d55f9a8532.jpg,  7b7f6b...  1.000000  3.819886e-13\n",
       "1   a9bf53389e4d4354ba2864c5032b3a0e.jpg,  77a504...  0.999999  1.258305e-06\n",
       "2   8984d1413a864b30858d1af6ff1e88fa.jpg,  5af039...  0.999962  3.822244e-05\n",
       "3   b98220e97ce2476ea0c3ae031cb55fd5.jpg,  a961c8...  0.999684  3.161281e-04\n",
       "4   81ee5f002023462d9a0994f4e92e6459.jpg,  4bc96a...  0.999886  1.143720e-04"
      ]
     },
     "execution_count": 4,
     "metadata": {},
     "output_type": "execute_result"
    }
   ],
   "source": [
    "sigmoid['0'] = 1-sigmoid['Predicted']\n",
    "sigmoid['1'] = sigmoid['Predicted']\n",
    "sigmoid.pop('Predicted')\n",
    "sigmoid.head()"
   ]
  },
  {
   "cell_type": "code",
   "execution_count": 5,
   "id": "useful-explorer",
   "metadata": {
    "execution": {
     "iopub.execute_input": "2021-04-25T17:52:18.437307Z",
     "iopub.status.busy": "2021-04-25T17:52:18.436294Z",
     "iopub.status.idle": "2021-04-25T17:52:18.440807Z",
     "shell.execute_reply": "2021-04-25T17:52:18.440137Z"
    },
    "papermill": {
     "duration": 0.024532,
     "end_time": "2021-04-25T17:52:18.440949",
     "exception": false,
     "start_time": "2021-04-25T17:52:18.416417",
     "status": "completed"
    },
    "tags": []
   },
   "outputs": [
    {
     "data": {
      "text/html": [
       "<div>\n",
       "<style scoped>\n",
       "    .dataframe tbody tr th:only-of-type {\n",
       "        vertical-align: middle;\n",
       "    }\n",
       "\n",
       "    .dataframe tbody tr th {\n",
       "        vertical-align: top;\n",
       "    }\n",
       "\n",
       "    .dataframe thead th {\n",
       "        text-align: right;\n",
       "    }\n",
       "</style>\n",
       "<table border=\"1\" class=\"dataframe\">\n",
       "  <thead>\n",
       "    <tr style=\"text-align: right;\">\n",
       "      <th></th>\n",
       "      <th>Id</th>\n",
       "      <th>Predicted</th>\n",
       "      <th>0</th>\n",
       "      <th>1</th>\n",
       "    </tr>\n",
       "  </thead>\n",
       "  <tbody>\n",
       "    <tr>\n",
       "      <th>0</th>\n",
       "      <td>01e2cc7b8ec040b2bc5794d55f9a8532.jpg,  7b7f6b...</td>\n",
       "      <td>0</td>\n",
       "      <td>1.000000</td>\n",
       "      <td>3.398247e-21</td>\n",
       "    </tr>\n",
       "    <tr>\n",
       "      <th>1</th>\n",
       "      <td>a9bf53389e4d4354ba2864c5032b3a0e.jpg,  77a504...</td>\n",
       "      <td>0</td>\n",
       "      <td>1.000000</td>\n",
       "      <td>7.298453e-13</td>\n",
       "    </tr>\n",
       "    <tr>\n",
       "      <th>2</th>\n",
       "      <td>8984d1413a864b30858d1af6ff1e88fa.jpg,  5af039...</td>\n",
       "      <td>0</td>\n",
       "      <td>0.999997</td>\n",
       "      <td>3.359004e-06</td>\n",
       "    </tr>\n",
       "    <tr>\n",
       "      <th>3</th>\n",
       "      <td>b98220e97ce2476ea0c3ae031cb55fd5.jpg,  a961c8...</td>\n",
       "      <td>0</td>\n",
       "      <td>0.999988</td>\n",
       "      <td>1.240421e-05</td>\n",
       "    </tr>\n",
       "    <tr>\n",
       "      <th>4</th>\n",
       "      <td>81ee5f002023462d9a0994f4e92e6459.jpg,  4bc96a...</td>\n",
       "      <td>0</td>\n",
       "      <td>1.000000</td>\n",
       "      <td>4.221056e-17</td>\n",
       "    </tr>\n",
       "  </tbody>\n",
       "</table>\n",
       "</div>"
      ],
      "text/plain": [
       "                                                  Id  Predicted         0  \\\n",
       "0   01e2cc7b8ec040b2bc5794d55f9a8532.jpg,  7b7f6b...          0  1.000000   \n",
       "1   a9bf53389e4d4354ba2864c5032b3a0e.jpg,  77a504...          0  1.000000   \n",
       "2   8984d1413a864b30858d1af6ff1e88fa.jpg,  5af039...          0  0.999997   \n",
       "3   b98220e97ce2476ea0c3ae031cb55fd5.jpg,  a961c8...          0  0.999988   \n",
       "4   81ee5f002023462d9a0994f4e92e6459.jpg,  4bc96a...          0  1.000000   \n",
       "\n",
       "              1  \n",
       "0  3.398247e-21  \n",
       "1  7.298453e-13  \n",
       "2  3.359004e-06  \n",
       "3  1.240421e-05  \n",
       "4  4.221056e-17  "
      ]
     },
     "execution_count": 5,
     "metadata": {},
     "output_type": "execute_result"
    }
   ],
   "source": [
    "soft_crop.head()"
   ]
  },
  {
   "cell_type": "code",
   "execution_count": 6,
   "id": "disciplinary-automation",
   "metadata": {
    "execution": {
     "iopub.execute_input": "2021-04-25T17:52:18.472834Z",
     "iopub.status.busy": "2021-04-25T17:52:18.472164Z",
     "iopub.status.idle": "2021-04-25T17:52:18.475102Z",
     "shell.execute_reply": "2021-04-25T17:52:18.475711Z"
    },
    "papermill": {
     "duration": 0.024453,
     "end_time": "2021-04-25T17:52:18.475865",
     "exception": false,
     "start_time": "2021-04-25T17:52:18.451412",
     "status": "completed"
    },
    "tags": []
   },
   "outputs": [
    {
     "data": {
      "text/html": [
       "<div>\n",
       "<style scoped>\n",
       "    .dataframe tbody tr th:only-of-type {\n",
       "        vertical-align: middle;\n",
       "    }\n",
       "\n",
       "    .dataframe tbody tr th {\n",
       "        vertical-align: top;\n",
       "    }\n",
       "\n",
       "    .dataframe thead th {\n",
       "        text-align: right;\n",
       "    }\n",
       "</style>\n",
       "<table border=\"1\" class=\"dataframe\">\n",
       "  <thead>\n",
       "    <tr style=\"text-align: right;\">\n",
       "      <th></th>\n",
       "      <th>Id</th>\n",
       "      <th>0</th>\n",
       "      <th>1</th>\n",
       "    </tr>\n",
       "  </thead>\n",
       "  <tbody>\n",
       "    <tr>\n",
       "      <th>0</th>\n",
       "      <td>01e2cc7b8ec040b2bc5794d55f9a8532.jpg,  7b7f6b...</td>\n",
       "      <td>1.0</td>\n",
       "      <td>3.545898e-25</td>\n",
       "    </tr>\n",
       "    <tr>\n",
       "      <th>1</th>\n",
       "      <td>a9bf53389e4d4354ba2864c5032b3a0e.jpg,  77a504...</td>\n",
       "      <td>1.0</td>\n",
       "      <td>3.715774e-09</td>\n",
       "    </tr>\n",
       "    <tr>\n",
       "      <th>2</th>\n",
       "      <td>8984d1413a864b30858d1af6ff1e88fa.jpg,  5af039...</td>\n",
       "      <td>1.0</td>\n",
       "      <td>1.565399e-12</td>\n",
       "    </tr>\n",
       "    <tr>\n",
       "      <th>3</th>\n",
       "      <td>b98220e97ce2476ea0c3ae031cb55fd5.jpg,  a961c8...</td>\n",
       "      <td>1.0</td>\n",
       "      <td>5.716040e-08</td>\n",
       "    </tr>\n",
       "    <tr>\n",
       "      <th>4</th>\n",
       "      <td>81ee5f002023462d9a0994f4e92e6459.jpg,  4bc96a...</td>\n",
       "      <td>1.0</td>\n",
       "      <td>2.043279e-11</td>\n",
       "    </tr>\n",
       "  </tbody>\n",
       "</table>\n",
       "</div>"
      ],
      "text/plain": [
       "                                                  Id    0             1\n",
       "0   01e2cc7b8ec040b2bc5794d55f9a8532.jpg,  7b7f6b...  1.0  3.545898e-25\n",
       "1   a9bf53389e4d4354ba2864c5032b3a0e.jpg,  77a504...  1.0  3.715774e-09\n",
       "2   8984d1413a864b30858d1af6ff1e88fa.jpg,  5af039...  1.0  1.565399e-12\n",
       "3   b98220e97ce2476ea0c3ae031cb55fd5.jpg,  a961c8...  1.0  5.716040e-08\n",
       "4   81ee5f002023462d9a0994f4e92e6459.jpg,  4bc96a...  1.0  2.043279e-11"
      ]
     },
     "execution_count": 6,
     "metadata": {},
     "output_type": "execute_result"
    }
   ],
   "source": [
    "softmax.head()"
   ]
  },
  {
   "cell_type": "markdown",
   "id": "excited-justice",
   "metadata": {
    "papermill": {
     "duration": 0.010387,
     "end_time": "2021-04-25T17:52:18.497097",
     "exception": false,
     "start_time": "2021-04-25T17:52:18.486710",
     "status": "completed"
    },
    "tags": []
   },
   "source": [
    "## Weighting"
   ]
  },
  {
   "cell_type": "code",
   "execution_count": 7,
   "id": "painted-clothing",
   "metadata": {
    "execution": {
     "iopub.execute_input": "2021-04-25T17:52:18.521148Z",
     "iopub.status.busy": "2021-04-25T17:52:18.520603Z",
     "iopub.status.idle": "2021-04-25T17:52:18.538351Z",
     "shell.execute_reply": "2021-04-25T17:52:18.538820Z"
    },
    "papermill": {
     "duration": 0.03125,
     "end_time": "2021-04-25T17:52:18.538996",
     "exception": false,
     "start_time": "2021-04-25T17:52:18.507746",
     "status": "completed"
    },
    "tags": []
   },
   "outputs": [
    {
     "data": {
      "text/html": [
       "<div>\n",
       "<style scoped>\n",
       "    .dataframe tbody tr th:only-of-type {\n",
       "        vertical-align: middle;\n",
       "    }\n",
       "\n",
       "    .dataframe tbody tr th {\n",
       "        vertical-align: top;\n",
       "    }\n",
       "\n",
       "    .dataframe thead th {\n",
       "        text-align: right;\n",
       "    }\n",
       "</style>\n",
       "<table border=\"1\" class=\"dataframe\">\n",
       "  <thead>\n",
       "    <tr style=\"text-align: right;\">\n",
       "      <th></th>\n",
       "      <th>Id</th>\n",
       "      <th>0</th>\n",
       "      <th>1</th>\n",
       "    </tr>\n",
       "  </thead>\n",
       "  <tbody>\n",
       "    <tr>\n",
       "      <th>0</th>\n",
       "      <td>01e2cc7b8ec040b2bc5794d55f9a8532.jpg,  7b7f6b...</td>\n",
       "      <td>1.000000</td>\n",
       "      <td>1.910146e-13</td>\n",
       "    </tr>\n",
       "    <tr>\n",
       "      <th>1</th>\n",
       "      <td>a9bf53389e4d4354ba2864c5032b3a0e.jpg,  77a504...</td>\n",
       "      <td>0.999999</td>\n",
       "      <td>6.323524e-07</td>\n",
       "    </tr>\n",
       "    <tr>\n",
       "      <th>2</th>\n",
       "      <td>8984d1413a864b30858d1af6ff1e88fa.jpg,  5af039...</td>\n",
       "      <td>0.999981</td>\n",
       "      <td>1.927918e-05</td>\n",
       "    </tr>\n",
       "    <tr>\n",
       "      <th>3</th>\n",
       "      <td>b98220e97ce2476ea0c3ae031cb55fd5.jpg,  a961c8...</td>\n",
       "      <td>0.992789</td>\n",
       "      <td>7.211200e-03</td>\n",
       "    </tr>\n",
       "    <tr>\n",
       "      <th>4</th>\n",
       "      <td>81ee5f002023462d9a0994f4e92e6459.jpg,  4bc96a...</td>\n",
       "      <td>0.999943</td>\n",
       "      <td>5.730503e-05</td>\n",
       "    </tr>\n",
       "  </tbody>\n",
       "</table>\n",
       "</div>"
      ],
      "text/plain": [
       "                                                  Id         0             1\n",
       "0   01e2cc7b8ec040b2bc5794d55f9a8532.jpg,  7b7f6b...  1.000000  1.910146e-13\n",
       "1   a9bf53389e4d4354ba2864c5032b3a0e.jpg,  77a504...  0.999999  6.323524e-07\n",
       "2   8984d1413a864b30858d1af6ff1e88fa.jpg,  5af039...  0.999981  1.927918e-05\n",
       "3   b98220e97ce2476ea0c3ae031cb55fd5.jpg,  a961c8...  0.992789  7.211200e-03\n",
       "4   81ee5f002023462d9a0994f4e92e6459.jpg,  4bc96a...  0.999943  5.730503e-05"
      ]
     },
     "execution_count": 7,
     "metadata": {},
     "output_type": "execute_result"
    }
   ],
   "source": [
    "w_soft = 0.275   #0.58\n",
    "w_sig = 0.5   #0.609\n",
    "w_crop = 0.05   #0.55\n",
    "w_pred2 = 0.1    #0.562\n",
    "w_pred3 = 0.075   #0.5\n",
    "\n",
    "softmax['0'] = w_soft*softmax['0'] + w_crop*soft_crop['0'] + w_sig*sigmoid['0'] + w_pred2*pred_2['0'] + w_pred3*pred_3['0']\n",
    "softmax['1'] = w_soft*softmax['1'] + w_crop*soft_crop['1'] + w_sig*sigmoid['1'] + w_pred2*pred_2['1'] + w_pred3*pred_3['1']\n",
    "softmax.head()"
   ]
  },
  {
   "cell_type": "code",
   "execution_count": 8,
   "id": "another-inside",
   "metadata": {
    "execution": {
     "iopub.execute_input": "2021-04-25T17:52:18.564823Z",
     "iopub.status.busy": "2021-04-25T17:52:18.564214Z",
     "iopub.status.idle": "2021-04-25T17:52:18.578344Z",
     "shell.execute_reply": "2021-04-25T17:52:18.577815Z"
    },
    "papermill": {
     "duration": 0.028089,
     "end_time": "2021-04-25T17:52:18.578471",
     "exception": false,
     "start_time": "2021-04-25T17:52:18.550382",
     "status": "completed"
    },
    "tags": []
   },
   "outputs": [
    {
     "data": {
      "text/html": [
       "<div>\n",
       "<style scoped>\n",
       "    .dataframe tbody tr th:only-of-type {\n",
       "        vertical-align: middle;\n",
       "    }\n",
       "\n",
       "    .dataframe tbody tr th {\n",
       "        vertical-align: top;\n",
       "    }\n",
       "\n",
       "    .dataframe thead th {\n",
       "        text-align: right;\n",
       "    }\n",
       "</style>\n",
       "<table border=\"1\" class=\"dataframe\">\n",
       "  <thead>\n",
       "    <tr style=\"text-align: right;\">\n",
       "      <th></th>\n",
       "      <th>Id</th>\n",
       "      <th>0</th>\n",
       "      <th>1</th>\n",
       "      <th>Predicted</th>\n",
       "    </tr>\n",
       "  </thead>\n",
       "  <tbody>\n",
       "    <tr>\n",
       "      <th>0</th>\n",
       "      <td>01e2cc7b8ec040b2bc5794d55f9a8532.jpg,  7b7f6b...</td>\n",
       "      <td>1.000000</td>\n",
       "      <td>1.910146e-13</td>\n",
       "      <td>0</td>\n",
       "    </tr>\n",
       "    <tr>\n",
       "      <th>1</th>\n",
       "      <td>a9bf53389e4d4354ba2864c5032b3a0e.jpg,  77a504...</td>\n",
       "      <td>0.999999</td>\n",
       "      <td>6.323524e-07</td>\n",
       "      <td>0</td>\n",
       "    </tr>\n",
       "    <tr>\n",
       "      <th>2</th>\n",
       "      <td>8984d1413a864b30858d1af6ff1e88fa.jpg,  5af039...</td>\n",
       "      <td>0.999981</td>\n",
       "      <td>1.927918e-05</td>\n",
       "      <td>0</td>\n",
       "    </tr>\n",
       "    <tr>\n",
       "      <th>3</th>\n",
       "      <td>b98220e97ce2476ea0c3ae031cb55fd5.jpg,  a961c8...</td>\n",
       "      <td>0.992789</td>\n",
       "      <td>7.211200e-03</td>\n",
       "      <td>0</td>\n",
       "    </tr>\n",
       "    <tr>\n",
       "      <th>4</th>\n",
       "      <td>81ee5f002023462d9a0994f4e92e6459.jpg,  4bc96a...</td>\n",
       "      <td>0.999943</td>\n",
       "      <td>5.730503e-05</td>\n",
       "      <td>0</td>\n",
       "    </tr>\n",
       "    <tr>\n",
       "      <th>5</th>\n",
       "      <td>6d1e1e0c965b481db4d999ad9bfbe5b2.jpg,  0287e8...</td>\n",
       "      <td>0.924856</td>\n",
       "      <td>7.514388e-02</td>\n",
       "      <td>0</td>\n",
       "    </tr>\n",
       "    <tr>\n",
       "      <th>6</th>\n",
       "      <td>12085cd665cd46448f7620607c24d80c.jpg,  bac950...</td>\n",
       "      <td>0.507029</td>\n",
       "      <td>4.929705e-01</td>\n",
       "      <td>0</td>\n",
       "    </tr>\n",
       "    <tr>\n",
       "      <th>7</th>\n",
       "      <td>be79280ece5f4ee892b63f8309587755.jpg,  826864...</td>\n",
       "      <td>0.346187</td>\n",
       "      <td>6.538134e-01</td>\n",
       "      <td>0</td>\n",
       "    </tr>\n",
       "    <tr>\n",
       "      <th>8</th>\n",
       "      <td>ca69df4032b94801ae5114c8dc26061a.jpg,  74e772...</td>\n",
       "      <td>0.921012</td>\n",
       "      <td>7.898816e-02</td>\n",
       "      <td>0</td>\n",
       "    </tr>\n",
       "    <tr>\n",
       "      <th>9</th>\n",
       "      <td>21415a542cac48558abdba0175e8c11f.jpg,  16689d...</td>\n",
       "      <td>0.115690</td>\n",
       "      <td>8.843101e-01</td>\n",
       "      <td>0</td>\n",
       "    </tr>\n",
       "  </tbody>\n",
       "</table>\n",
       "</div>"
      ],
      "text/plain": [
       "                                                  Id         0             1  \\\n",
       "0   01e2cc7b8ec040b2bc5794d55f9a8532.jpg,  7b7f6b...  1.000000  1.910146e-13   \n",
       "1   a9bf53389e4d4354ba2864c5032b3a0e.jpg,  77a504...  0.999999  6.323524e-07   \n",
       "2   8984d1413a864b30858d1af6ff1e88fa.jpg,  5af039...  0.999981  1.927918e-05   \n",
       "3   b98220e97ce2476ea0c3ae031cb55fd5.jpg,  a961c8...  0.992789  7.211200e-03   \n",
       "4   81ee5f002023462d9a0994f4e92e6459.jpg,  4bc96a...  0.999943  5.730503e-05   \n",
       "5   6d1e1e0c965b481db4d999ad9bfbe5b2.jpg,  0287e8...  0.924856  7.514388e-02   \n",
       "6   12085cd665cd46448f7620607c24d80c.jpg,  bac950...  0.507029  4.929705e-01   \n",
       "7   be79280ece5f4ee892b63f8309587755.jpg,  826864...  0.346187  6.538134e-01   \n",
       "8   ca69df4032b94801ae5114c8dc26061a.jpg,  74e772...  0.921012  7.898816e-02   \n",
       "9   21415a542cac48558abdba0175e8c11f.jpg,  16689d...  0.115690  8.843101e-01   \n",
       "\n",
       "   Predicted  \n",
       "0          0  \n",
       "1          0  \n",
       "2          0  \n",
       "3          0  \n",
       "4          0  \n",
       "5          0  \n",
       "6          0  \n",
       "7          0  \n",
       "8          0  \n",
       "9          0  "
      ]
     },
     "execution_count": 8,
     "metadata": {},
     "output_type": "execute_result"
    }
   ],
   "source": [
    "softmax['Predicted'] = np.where(softmax['1']>0.95, 1, 0)\n",
    "softmax.head(10)"
   ]
  },
  {
   "cell_type": "code",
   "execution_count": 9,
   "id": "integral-solid",
   "metadata": {
    "execution": {
     "iopub.execute_input": "2021-04-25T17:52:18.607725Z",
     "iopub.status.busy": "2021-04-25T17:52:18.607118Z",
     "iopub.status.idle": "2021-04-25T17:52:18.617530Z",
     "shell.execute_reply": "2021-04-25T17:52:18.617028Z"
    },
    "papermill": {
     "duration": 0.027274,
     "end_time": "2021-04-25T17:52:18.617662",
     "exception": false,
     "start_time": "2021-04-25T17:52:18.590388",
     "status": "completed"
    },
    "tags": []
   },
   "outputs": [
    {
     "data": {
      "text/html": [
       "<div>\n",
       "<style scoped>\n",
       "    .dataframe tbody tr th:only-of-type {\n",
       "        vertical-align: middle;\n",
       "    }\n",
       "\n",
       "    .dataframe tbody tr th {\n",
       "        vertical-align: top;\n",
       "    }\n",
       "\n",
       "    .dataframe thead th {\n",
       "        text-align: right;\n",
       "    }\n",
       "</style>\n",
       "<table border=\"1\" class=\"dataframe\">\n",
       "  <thead>\n",
       "    <tr style=\"text-align: right;\">\n",
       "      <th></th>\n",
       "      <th>Id</th>\n",
       "      <th>Predicted</th>\n",
       "    </tr>\n",
       "  </thead>\n",
       "  <tbody>\n",
       "    <tr>\n",
       "      <th>0</th>\n",
       "      <td>01e2cc7b8ec040b2bc5794d55f9a8532.jpg,  7b7f6b...</td>\n",
       "      <td>0</td>\n",
       "    </tr>\n",
       "    <tr>\n",
       "      <th>1</th>\n",
       "      <td>a9bf53389e4d4354ba2864c5032b3a0e.jpg,  77a504...</td>\n",
       "      <td>0</td>\n",
       "    </tr>\n",
       "    <tr>\n",
       "      <th>2</th>\n",
       "      <td>8984d1413a864b30858d1af6ff1e88fa.jpg,  5af039...</td>\n",
       "      <td>0</td>\n",
       "    </tr>\n",
       "    <tr>\n",
       "      <th>3</th>\n",
       "      <td>b98220e97ce2476ea0c3ae031cb55fd5.jpg,  a961c8...</td>\n",
       "      <td>0</td>\n",
       "    </tr>\n",
       "    <tr>\n",
       "      <th>4</th>\n",
       "      <td>81ee5f002023462d9a0994f4e92e6459.jpg,  4bc96a...</td>\n",
       "      <td>0</td>\n",
       "    </tr>\n",
       "    <tr>\n",
       "      <th>5</th>\n",
       "      <td>6d1e1e0c965b481db4d999ad9bfbe5b2.jpg,  0287e8...</td>\n",
       "      <td>0</td>\n",
       "    </tr>\n",
       "    <tr>\n",
       "      <th>6</th>\n",
       "      <td>12085cd665cd46448f7620607c24d80c.jpg,  bac950...</td>\n",
       "      <td>0</td>\n",
       "    </tr>\n",
       "    <tr>\n",
       "      <th>7</th>\n",
       "      <td>be79280ece5f4ee892b63f8309587755.jpg,  826864...</td>\n",
       "      <td>0</td>\n",
       "    </tr>\n",
       "    <tr>\n",
       "      <th>8</th>\n",
       "      <td>ca69df4032b94801ae5114c8dc26061a.jpg,  74e772...</td>\n",
       "      <td>0</td>\n",
       "    </tr>\n",
       "    <tr>\n",
       "      <th>9</th>\n",
       "      <td>21415a542cac48558abdba0175e8c11f.jpg,  16689d...</td>\n",
       "      <td>0</td>\n",
       "    </tr>\n",
       "  </tbody>\n",
       "</table>\n",
       "</div>"
      ],
      "text/plain": [
       "                                                  Id  Predicted\n",
       "0   01e2cc7b8ec040b2bc5794d55f9a8532.jpg,  7b7f6b...          0\n",
       "1   a9bf53389e4d4354ba2864c5032b3a0e.jpg,  77a504...          0\n",
       "2   8984d1413a864b30858d1af6ff1e88fa.jpg,  5af039...          0\n",
       "3   b98220e97ce2476ea0c3ae031cb55fd5.jpg,  a961c8...          0\n",
       "4   81ee5f002023462d9a0994f4e92e6459.jpg,  4bc96a...          0\n",
       "5   6d1e1e0c965b481db4d999ad9bfbe5b2.jpg,  0287e8...          0\n",
       "6   12085cd665cd46448f7620607c24d80c.jpg,  bac950...          0\n",
       "7   be79280ece5f4ee892b63f8309587755.jpg,  826864...          0\n",
       "8   ca69df4032b94801ae5114c8dc26061a.jpg,  74e772...          0\n",
       "9   21415a542cac48558abdba0175e8c11f.jpg,  16689d...          0"
      ]
     },
     "execution_count": 9,
     "metadata": {},
     "output_type": "execute_result"
    }
   ],
   "source": [
    "pred = softmax[['Id', 'Predicted']]\n",
    "pred.head(10)"
   ]
  },
  {
   "cell_type": "code",
   "execution_count": 10,
   "id": "acting-engineering",
   "metadata": {
    "execution": {
     "iopub.execute_input": "2021-04-25T17:52:18.647358Z",
     "iopub.status.busy": "2021-04-25T17:52:18.646652Z",
     "iopub.status.idle": "2021-04-25T17:52:18.675831Z",
     "shell.execute_reply": "2021-04-25T17:52:18.676303Z"
    },
    "papermill": {
     "duration": 0.046091,
     "end_time": "2021-04-25T17:52:18.676480",
     "exception": false,
     "start_time": "2021-04-25T17:52:18.630389",
     "status": "completed"
    },
    "tags": []
   },
   "outputs": [],
   "source": [
    "pred.to_csv('Ensemble.csv', index=False)"
   ]
  }
 ],
 "metadata": {
  "kernelspec": {
   "display_name": "Python 3",
   "language": "python",
   "name": "python3"
  },
  "language_info": {
   "codemirror_mode": {
    "name": "ipython",
    "version": 3
   },
   "file_extension": ".py",
   "mimetype": "text/x-python",
   "name": "python",
   "nbconvert_exporter": "python",
   "pygments_lexer": "ipython3",
   "version": "3.7.10"
  },
  "papermill": {
   "default_parameters": {},
   "duration": 9.836015,
   "end_time": "2021-04-25T17:52:19.974671",
   "environment_variables": {},
   "exception": null,
   "input_path": "__notebook__.ipynb",
   "output_path": "__notebook__.ipynb",
   "parameters": {},
   "start_time": "2021-04-25T17:52:10.138656",
   "version": "2.3.3"
  }
 },
 "nbformat": 4,
 "nbformat_minor": 5
}
