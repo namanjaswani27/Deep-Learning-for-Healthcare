{
 "cells": [
  {
   "cell_type": "code",
   "execution_count": 1,
   "source": [
    "import numpy as np\n",
    "import pandas as pd\n",
    "import os\n",
    "import matplotlib.pyplot as plt\n",
    "from PIL import Image\n",
    "\n",
    "import torch\n",
    "import torch.nn as nn\n",
    "import torch.nn.functional as F\n",
    "from torch.utils.data import Dataset, DataLoader\n",
    "from torchvision import transforms, models\n",
    "from random import choice\n",
    "from skimage import io\n",
    "import sklearn.metrics\n",
    "\n",
    "from tqdm.notebook import tqdm"
   ],
   "outputs": [],
   "metadata": {
    "_cell_guid": "b1076dfc-b9ad-4769-8c92-a6c4dae69d19",
    "_uuid": "8f2839f25d086af736a60e9eeb907d3b93b6e0e5",
    "execution": {
     "iopub.execute_input": "2021-04-25T03:26:42.152144Z",
     "iopub.status.busy": "2021-04-25T03:26:42.151471Z",
     "iopub.status.idle": "2021-04-25T03:26:44.846511Z",
     "shell.execute_reply": "2021-04-25T03:26:44.845356Z"
    },
    "papermill": {
     "duration": 2.718801,
     "end_time": "2021-04-25T03:26:44.846661",
     "exception": false,
     "start_time": "2021-04-25T03:26:42.127860",
     "status": "completed"
    },
    "tags": []
   }
  },
  {
   "cell_type": "code",
   "execution_count": 2,
   "source": [
    "class CFG:\n",
    "    BATCH_SIZE = 64\n",
    "    EPOCHS = 200\n",
    "    LEARNING_RATE = 3e-4"
   ],
   "outputs": [],
   "metadata": {
    "execution": {
     "iopub.execute_input": "2021-04-25T03:26:44.885229Z",
     "iopub.status.busy": "2021-04-25T03:26:44.883358Z",
     "iopub.status.idle": "2021-04-25T03:26:44.885808Z",
     "shell.execute_reply": "2021-04-25T03:26:44.886221Z"
    },
    "papermill": {
     "duration": 0.022795,
     "end_time": "2021-04-25T03:26:44.886352",
     "exception": false,
     "start_time": "2021-04-25T03:26:44.863557",
     "status": "completed"
    },
    "tags": []
   }
  },
  {
   "cell_type": "code",
   "execution_count": 3,
   "source": [
    "TRAIN_PATH = '../input/dlcv-2021-hackathon/train/train/'\n",
    "TEST_PATH = '../input/dlcv-2021-hackathon/test/'\n",
    "sample_csv = pd.read_csv('../input/dlcv-2021-hackathon/sample_submission.csv')\n",
    "test_csv = pd.read_csv('../input/dlcv-2021-hackathon/test.csv')"
   ],
   "outputs": [],
   "metadata": {
    "execution": {
     "iopub.execute_input": "2021-04-25T03:26:44.925695Z",
     "iopub.status.busy": "2021-04-25T03:26:44.925105Z",
     "iopub.status.idle": "2021-04-25T03:26:44.971700Z",
     "shell.execute_reply": "2021-04-25T03:26:44.971213Z"
    },
    "papermill": {
     "duration": 0.069558,
     "end_time": "2021-04-25T03:26:44.971850",
     "exception": false,
     "start_time": "2021-04-25T03:26:44.902292",
     "status": "completed"
    },
    "tags": []
   }
  },
  {
   "cell_type": "code",
   "execution_count": 4,
   "source": [
    "# Storing File_Names\n",
    "\n",
    "lst = os.listdir(TRAIN_PATH+'Post')\n",
    "filenames = [file[5:] for file in lst]\n",
    "print(len(filenames))"
   ],
   "outputs": [
    {
     "output_type": "stream",
     "name": "stdout",
     "text": [
      "1000\n"
     ]
    }
   ],
   "metadata": {
    "execution": {
     "iopub.execute_input": "2021-04-25T03:26:45.008522Z",
     "iopub.status.busy": "2021-04-25T03:26:45.007895Z",
     "iopub.status.idle": "2021-04-25T03:26:45.151625Z",
     "shell.execute_reply": "2021-04-25T03:26:45.151210Z"
    },
    "papermill": {
     "duration": 0.163619,
     "end_time": "2021-04-25T03:26:45.151781",
     "exception": false,
     "start_time": "2021-04-25T03:26:44.988162",
     "status": "completed"
    },
    "tags": []
   }
  },
  {
   "cell_type": "code",
   "execution_count": 5,
   "source": [
    "class Custom_Dataset(Dataset):\n",
    "   \n",
    "    def __init__(self, TRAIN_PATH, filenames, transform=None):\n",
    "        \n",
    "        self.filenames = filenames\n",
    "        self.post_op_path = TRAIN_PATH + \"Post/\"\n",
    "        self.pre_op_path = TRAIN_PATH + \"Pre/\" \n",
    "        self.transform = transform\n",
    "        df_columns = ['post_name', 'pre_name', 'label']\n",
    "        self.df = pd.DataFrame(columns=df_columns)\n",
    "        \n",
    "        for i in range(len(filenames)):\n",
    "            label = 1\n",
    "            post_fn = \"POST_\"+filenames[i]\n",
    "            pre_fn_true = \"PRE_\"+filenames[i]\n",
    "            self.df = self.df.append(pd.Series([post_fn, pre_fn_true, label], index=self.df.columns), ignore_index=True)\n",
    "\n",
    "            label=0\n",
    "            for j in range(20):
    "                rand_idx = choice([j for j in range(len(filenames)) if j not in [i]])\n",
    "                pre_fn_false = \"PRE_\"+filenames[rand_idx]\n",
    "                self.df = self.df.append(pd.Series([post_fn, pre_fn_false, label], index=self.df.columns), ignore_index=True)\n",
    "            \n",
    "        \n",
    "    def __len__(self):\n",
    "        return len(self.df)\n",
    "    \n",
    "    \n",
    "    def __getitem__(self, idx):\n",
    "        row = self.df.iloc[idx]\n",
    "        post_name = row['post_name']\n",
    "        pre_name = row['pre_name']\n",
    "        label = row['label']\n",
    "        \n",
    "        post_img = Image.fromarray(io.imread(self.post_op_path+post_name))\n",
    "        pre_img = Image.fromarray(io.imread(self.pre_op_path+pre_name))\n",
    "        \n",
    "#         post_img = Image.fromarray(post_img.transpose(2,0,1))\n",
    "#         pre_img = Image.fromarray(pre_img.transpose(2,0,1))        \n",
    "#         post_img = np.array(Image.open(self.post_op_path+post_name),\n",
    "#         pre_img = Image.open(self.pre_op_path+pre_name) \n",
    "        \n",
    "        if self.transform:\n",
    "#             print(type(post_img))\n",
    "            post_img = self.transform(post_img)\n",
    "            pre_img = self.transform(pre_img)\n",
    "        \n",
    "        return post_img, pre_img, label"
   ],
   "outputs": [],
   "metadata": {
    "execution": {
     "iopub.execute_input": "2021-04-25T03:26:45.196344Z",
     "iopub.status.busy": "2021-04-25T03:26:45.195808Z",
     "iopub.status.idle": "2021-04-25T03:26:45.199578Z",
     "shell.execute_reply": "2021-04-25T03:26:45.199105Z"
    },
    "papermill": {
     "duration": 0.03081,
     "end_time": "2021-04-25T03:26:45.199688",
     "exception": false,
     "start_time": "2021-04-25T03:26:45.168878",
     "status": "completed"
    },
    "tags": []
   }
  },
  {
   "cell_type": "code",
   "execution_count": null,
   "source": [
    "img1, img2 = test_csv.iloc[0].item().split(',')\n",
    "img1 = img1.strip()\n",
    "img2 = img2.strip()\n",
    "\n",
    "print(img1, img2)\n",
    "img1 = Image.fromarray(io.imread(TEST_PATH+img1))\n",
    "img1"
   ],
   "outputs": [],
   "metadata": {
    "execution": {
     "iopub.execute_input": "2021-04-25T03:26:45.240750Z",
     "iopub.status.busy": "2021-04-25T03:26:45.240216Z",
     "iopub.status.idle": "2021-04-25T03:26:45.423988Z",
     "shell.execute_reply": "2021-04-25T03:26:45.424388Z"
    },
    "papermill": {
     "duration": 0.206318,
     "end_time": "2021-04-25T03:26:45.424541",
     "exception": false,
     "start_time": "2021-04-25T03:26:45.218223",
     "status": "completed"
    },
    "tags": []
   }
  },
  {
   "cell_type": "code",
   "execution_count": 7,
   "source": [
    "class Test_Dataset(Dataset):\n",
    "   \n",
    "    def __init__(self, TEST_PATH, test_csv, transform=None):\n",
    "        \n",
    "        self.img_path = TEST_PATH\n",
    "        self.transform = transform\n",
    "        \n",
    "    def __len__(self):\n",
    "        return len(test_csv)\n",
    "    \n",
    "    \n",
    "    def __getitem__(self, idx):\n",
    "        img1_name, img2_name = test_csv.iloc[idx].item().split(',')\n",
    "        img1_name = img1_name.strip()\n",
    "        img2_name = img2_name.strip()\n",
    "        \n",
    "        img1 = Image.fromarray(io.imread(self.img_path+img1_name))\n",
    "        img2 = Image.fromarray(io.imread(self.img_path+img2_name))\n",
    "        \n",
    "        if self.transform:\n",
    "#             print(type(post_img))\n",
    "            img1 = self.transform(img1)\n",
    "            img2 = self.transform(img2)\n",
    "        \n",
    "        return img1, img2"
   ],
   "outputs": [],
   "metadata": {
    "execution": {
     "iopub.execute_input": "2021-04-25T03:26:45.481738Z",
     "iopub.status.busy": "2021-04-25T03:26:45.480014Z",
     "iopub.status.idle": "2021-04-25T03:26:45.482350Z",
     "shell.execute_reply": "2021-04-25T03:26:45.482794Z"
    },
    "papermill": {
     "duration": 0.033973,
     "end_time": "2021-04-25T03:26:45.482929",
     "exception": false,
     "start_time": "2021-04-25T03:26:45.448956",
     "status": "completed"
    },
    "tags": []
   }
  },
  {
   "cell_type": "code",
   "execution_count": 8,
   "source": [
    "transform = transforms.Compose([\n",
    "    transforms.Resize((224,224)),\n",
    "    transforms.RandomHorizontalFlip(),\n",
    "    transforms.ToTensor(),\n",
    "    transforms.Normalize([0.485, 0.456, 0.406], [0.229, 0.224, 0.225])\n",
    "])\n",
    "\n",
    "train_size = 90\n",
    "train_size = int((80/100) * len(filenames))\n",
    "train_dataset = Custom_Dataset(TRAIN_PATH, filenames[:train_size], transform=transform)\n",
    "train_dataloader = DataLoader(train_dataset, batch_size=CFG.BATCH_SIZE, shuffle=True)\n",
    "\n",
    "val_dataset = Custom_Dataset(TRAIN_PATH, filenames[train_size:], transform=transform)\n",
    "val_dataloader = DataLoader(val_dataset, batch_size=CFG.BATCH_SIZE*2, shuffle=False)"
   ],
   "outputs": [],
   "metadata": {
    "execution": {
     "iopub.execute_input": "2021-04-25T03:26:45.608774Z",
     "iopub.status.busy": "2021-04-25T03:26:45.603445Z",
     "iopub.status.idle": "2021-04-25T03:26:50.842318Z",
     "shell.execute_reply": "2021-04-25T03:26:50.842753Z"
    },
    "papermill": {
     "duration": 5.335607,
     "end_time": "2021-04-25T03:26:50.842976",
     "exception": false,
     "start_time": "2021-04-25T03:26:45.507369",
     "status": "completed"
    },
    "tags": []
   }
  },
  {
   "cell_type": "code",
   "execution_count": 9,
   "source": [
    "test_transform = transforms.Compose([\n",
    "    transforms.Resize((224,224)),\n",
    "#     transforms.RandomHorizontalFlip(),\n",
    "    transforms.ToTensor(),\n",
    "    transforms.Normalize([0.485, 0.456, 0.406], [0.229, 0.224, 0.225])\n",
    "])\n",
    "\n",
    "test_dataset = Test_Dataset(TEST_PATH, test_csv, transform=test_transform)\n",
    "test_dataloader = DataLoader(test_dataset, batch_size=CFG.BATCH_SIZE*2, shuffle=False)"
   ],
   "outputs": [],
   "metadata": {
    "execution": {
     "iopub.execute_input": "2021-04-25T03:26:50.902027Z",
     "iopub.status.busy": "2021-04-25T03:26:50.901350Z",
     "iopub.status.idle": "2021-04-25T03:26:50.903956Z",
     "shell.execute_reply": "2021-04-25T03:26:50.904372Z"
    },
    "papermill": {
     "duration": 0.033917,
     "end_time": "2021-04-25T03:26:50.904501",
     "exception": false,
     "start_time": "2021-04-25T03:26:50.870584",
     "status": "completed"
    },
    "tags": []
   }
  },
  {
   "cell_type": "markdown",
   "source": [
    "## DataLoader Sanity check"
   ],
   "metadata": {
    "papermill": {
     "duration": 0.025091,
     "end_time": "2021-04-25T03:26:50.954967",
     "exception": false,
     "start_time": "2021-04-25T03:26:50.929876",
     "status": "completed"
    },
    "tags": []
   }
  },
  {
   "cell_type": "code",
   "execution_count": 10,
   "source": [
    "post_img, pre_img, label = next(iter(val_dataloader))\n",
    "print(post_img.shape)\n",
    "post_img = post_img.numpy()\n",
    "pre_img = pre_img.numpy()\n",
    "show = 5\n",
    "\n",
    "\n",
    "fig, ax = plt.subplots(5, 2, figsize=(14,14))\n",
    "for i in range(5):\n",
    "    ax[i][0].imshow(post_img[i].transpose(1,2,0))\n",
    "    ax[i][0].set_title('Post Operation Label: '+str(label[i]))\n",
    "    ax[i][0].axis('off')\n",
    "\n",
    "    ax[i][1].imshow(pre_img[i].transpose(1,2,0))\n",
    "    ax[i][1].set_title('Pre Operation label: '+str(label[i]))\n",
    "    ax[i][1].axis('off')\n",
    "    \n",
    "\n",
    "plt.show()\n"
   ],
   "outputs": [
    {
     "output_type": "stream",
     "name": "stdout",
     "text": [
      "torch.Size([128, 3, 224, 224])\n"
     ]
    },
    {
     "output_type": "display_data",
     "data": {
      "text/plain": [
       "<Figure size 1008x1008 with 10 Axes>"
      ],
      "image/png": "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"
     },
     "metadata": {
      "needs_background": "light"
     }
    }
   ],
   "metadata": {
    "execution": {
     "iopub.execute_input": "2021-04-25T03:26:51.013016Z",
     "iopub.status.busy": "2021-04-25T03:26:51.012356Z",
     "iopub.status.idle": "2021-04-25T03:26:55.575917Z",
     "shell.execute_reply": "2021-04-25T03:26:55.575428Z"
    },
    "papermill": {
     "duration": 4.596127,
     "end_time": "2021-04-25T03:26:55.576050",
     "exception": false,
     "start_time": "2021-04-25T03:26:50.979923",
     "status": "completed"
    },
    "tags": []
   }
  },
  {
   "cell_type": "code",
   "execution_count": 11,
   "source": [
    "model_up = models.resnet18(pretrained=True)\n",
    "model_dn = models.resnet18(pretrained=True)"
   ],
   "outputs": [
    {
     "output_type": "stream",
     "name": "stderr",
     "text": [
      "Downloading: \"https://download.pytorch.org/models/resnet18-5c106cde.pth\" to /root/.cache/torch/hub/checkpoints/resnet18-5c106cde.pth\n"
     ]
    },
    {
     "output_type": "display_data",
     "data": {
      "text/plain": [
       "  0%|          | 0.00/44.7M [00:00<?, ?B/s]"
      ],
      "application/vnd.jupyter.widget-view+json": {
       "model_id": "0fa199722eee406bab632b3c251d9091",
       "version_major": 2,
       "version_minor": 0
      }
     },
     "metadata": {}
    }
   ],
   "metadata": {
    "execution": {
     "iopub.execute_input": "2021-04-25T03:26:55.645194Z",
     "iopub.status.busy": "2021-04-25T03:26:55.644522Z",
     "iopub.status.idle": "2021-04-25T03:27:03.174670Z",
     "shell.execute_reply": "2021-04-25T03:27:03.174183Z"
    },
    "papermill": {
     "duration": 7.568416,
     "end_time": "2021-04-25T03:27:03.174808",
     "exception": false,
     "start_time": "2021-04-25T03:26:55.606392",
     "status": "completed"
    },
    "tags": []
   }
  },
  {
   "cell_type": "code",
   "execution_count": 12,
   "source": [
    "print(model_up)"
   ],
   "outputs": [
    {
     "output_type": "stream",
     "name": "stdout",
     "text": [
      "ResNet(\n",
      "  (conv1): Conv2d(3, 64, kernel_size=(7, 7), stride=(2, 2), padding=(3, 3), bias=False)\n",
      "  (bn1): BatchNorm2d(64, eps=1e-05, momentum=0.1, affine=True, track_running_stats=True)\n",
      "  (relu): ReLU(inplace=True)\n",
      "  (maxpool): MaxPool2d(kernel_size=3, stride=2, padding=1, dilation=1, ceil_mode=False)\n",
      "  (layer1): Sequential(\n",
      "    (0): BasicBlock(\n",
      "      (conv1): Conv2d(64, 64, kernel_size=(3, 3), stride=(1, 1), padding=(1, 1), bias=False)\n",
      "      (bn1): BatchNorm2d(64, eps=1e-05, momentum=0.1, affine=True, track_running_stats=True)\n",
      "      (relu): ReLU(inplace=True)\n",
      "      (conv2): Conv2d(64, 64, kernel_size=(3, 3), stride=(1, 1), padding=(1, 1), bias=False)\n",
      "      (bn2): BatchNorm2d(64, eps=1e-05, momentum=0.1, affine=True, track_running_stats=True)\n",
      "    )\n",
      "    (1): BasicBlock(\n",
      "      (conv1): Conv2d(64, 64, kernel_size=(3, 3), stride=(1, 1), padding=(1, 1), bias=False)\n",
      "      (bn1): BatchNorm2d(64, eps=1e-05, momentum=0.1, affine=True, track_running_stats=True)\n",
      "      (relu): ReLU(inplace=True)\n",
      "      (conv2): Conv2d(64, 64, kernel_size=(3, 3), stride=(1, 1), padding=(1, 1), bias=False)\n",
      "      (bn2): BatchNorm2d(64, eps=1e-05, momentum=0.1, affine=True, track_running_stats=True)\n",
      "    )\n",
      "  )\n",
      "  (layer2): Sequential(\n",
      "    (0): BasicBlock(\n",
      "      (conv1): Conv2d(64, 128, kernel_size=(3, 3), stride=(2, 2), padding=(1, 1), bias=False)\n",
      "      (bn1): BatchNorm2d(128, eps=1e-05, momentum=0.1, affine=True, track_running_stats=True)\n",
      "      (relu): ReLU(inplace=True)\n",
      "      (conv2): Conv2d(128, 128, kernel_size=(3, 3), stride=(1, 1), padding=(1, 1), bias=False)\n",
      "      (bn2): BatchNorm2d(128, eps=1e-05, momentum=0.1, affine=True, track_running_stats=True)\n",
      "      (downsample): Sequential(\n",
      "        (0): Conv2d(64, 128, kernel_size=(1, 1), stride=(2, 2), bias=False)\n",
      "        (1): BatchNorm2d(128, eps=1e-05, momentum=0.1, affine=True, track_running_stats=True)\n",
      "      )\n",
      "    )\n",
      "    (1): BasicBlock(\n",
      "      (conv1): Conv2d(128, 128, kernel_size=(3, 3), stride=(1, 1), padding=(1, 1), bias=False)\n",
      "      (bn1): BatchNorm2d(128, eps=1e-05, momentum=0.1, affine=True, track_running_stats=True)\n",
      "      (relu): ReLU(inplace=True)\n",
      "      (conv2): Conv2d(128, 128, kernel_size=(3, 3), stride=(1, 1), padding=(1, 1), bias=False)\n",
      "      (bn2): BatchNorm2d(128, eps=1e-05, momentum=0.1, affine=True, track_running_stats=True)\n",
      "    )\n",
      "  )\n",
      "  (layer3): Sequential(\n",
      "    (0): BasicBlock(\n",
      "      (conv1): Conv2d(128, 256, kernel_size=(3, 3), stride=(2, 2), padding=(1, 1), bias=False)\n",
      "      (bn1): BatchNorm2d(256, eps=1e-05, momentum=0.1, affine=True, track_running_stats=True)\n",
      "      (relu): ReLU(inplace=True)\n",
      "      (conv2): Conv2d(256, 256, kernel_size=(3, 3), stride=(1, 1), padding=(1, 1), bias=False)\n",
      "      (bn2): BatchNorm2d(256, eps=1e-05, momentum=0.1, affine=True, track_running_stats=True)\n",
      "      (downsample): Sequential(\n",
      "        (0): Conv2d(128, 256, kernel_size=(1, 1), stride=(2, 2), bias=False)\n",
      "        (1): BatchNorm2d(256, eps=1e-05, momentum=0.1, affine=True, track_running_stats=True)\n",
      "      )\n",
      "    )\n",
      "    (1): BasicBlock(\n",
      "      (conv1): Conv2d(256, 256, kernel_size=(3, 3), stride=(1, 1), padding=(1, 1), bias=False)\n",
      "      (bn1): BatchNorm2d(256, eps=1e-05, momentum=0.1, affine=True, track_running_stats=True)\n",
      "      (relu): ReLU(inplace=True)\n",
      "      (conv2): Conv2d(256, 256, kernel_size=(3, 3), stride=(1, 1), padding=(1, 1), bias=False)\n",
      "      (bn2): BatchNorm2d(256, eps=1e-05, momentum=0.1, affine=True, track_running_stats=True)\n",
      "    )\n",
      "  )\n",
      "  (layer4): Sequential(\n",
      "    (0): BasicBlock(\n",
      "      (conv1): Conv2d(256, 512, kernel_size=(3, 3), stride=(2, 2), padding=(1, 1), bias=False)\n",
      "      (bn1): BatchNorm2d(512, eps=1e-05, momentum=0.1, affine=True, track_running_stats=True)\n",
      "      (relu): ReLU(inplace=True)\n",
      "      (conv2): Conv2d(512, 512, kernel_size=(3, 3), stride=(1, 1), padding=(1, 1), bias=False)\n",
      "      (bn2): BatchNorm2d(512, eps=1e-05, momentum=0.1, affine=True, track_running_stats=True)\n",
      "      (downsample): Sequential(\n",
      "        (0): Conv2d(256, 512, kernel_size=(1, 1), stride=(2, 2), bias=False)\n",
      "        (1): BatchNorm2d(512, eps=1e-05, momentum=0.1, affine=True, track_running_stats=True)\n",
      "      )\n",
      "    )\n",
      "    (1): BasicBlock(\n",
      "      (conv1): Conv2d(512, 512, kernel_size=(3, 3), stride=(1, 1), padding=(1, 1), bias=False)\n",
      "      (bn1): BatchNorm2d(512, eps=1e-05, momentum=0.1, affine=True, track_running_stats=True)\n",
      "      (relu): ReLU(inplace=True)\n",
      "      (conv2): Conv2d(512, 512, kernel_size=(3, 3), stride=(1, 1), padding=(1, 1), bias=False)\n",
      "      (bn2): BatchNorm2d(512, eps=1e-05, momentum=0.1, affine=True, track_running_stats=True)\n",
      "    )\n",
      "  )\n",
      "  (avgpool): AdaptiveAvgPool2d(output_size=(1, 1))\n",
      "  (fc): Linear(in_features=512, out_features=1000, bias=True)\n",
      ")\n"
     ]
    }
   ],
   "metadata": {
    "execution": {
     "iopub.execute_input": "2021-04-25T03:27:03.241653Z",
     "iopub.status.busy": "2021-04-25T03:27:03.241063Z",
     "iopub.status.idle": "2021-04-25T03:27:03.246369Z",
     "shell.execute_reply": "2021-04-25T03:27:03.245912Z"
    },
    "papermill": {
     "duration": 0.040527,
     "end_time": "2021-04-25T03:27:03.246479",
     "exception": false,
     "start_time": "2021-04-25T03:27:03.205952",
     "status": "completed"
    },
    "tags": []
   }
  },
  {
   "cell_type": "code",
   "execution_count": 13,
   "source": [
    "# FF_layer_up = [model_up.classifier[i] for i in [0,3,6]]\n",
    "# FF_layer_dn = [model_dn.classifier[i] for i in [0,3,6]]\n",
    "\n",
    "for model in [model_up, model_dn]:\n",
    "    for params in model.parameters():\n",
    "        params.requires_grad = False\n",
    "        \n",
    "# for i in [0,3,6]:\n",
    "#     model_up.classifier[i] = FF_layer_up[i//3]\n",
    "#     model_dn.classifier[i] = FF_layer_dn[i//3]    \n",
    "\n",
    "# print(model_up)\n",
    "\n",
    "# model_up.classifier = nn.Sequential(\n",
    "#     nn.Linear(in_features=25088, out_features=4096, bias=True),\n",
    "#     nn.ReLU(inplace=True),\n",
    "#     nn.Dropout(p=0.5, inplace=False),\n",
    "#     nn.Linear(in_features=4096, out_features=64, bias=True),\n",
    "# #     nn.ReLU(inplace=True),\n",
    "# #     nn.ReLU(inplace=True),\n",
    "# #     nn.Dropout(p=0.5, inplace=False),\n",
    "# #     nn.Linear(in_features=4096, out_features=1000, bias=True)\n",
    "# )\n",
    "\n",
    "# model_dn.classifier = nn.Sequential(\n",
    "#     nn.Linear(in_features=25088, out_features=4096, bias=True),\n",
    "#     nn.ReLU(inplace=True),\n",
    "#     nn.Dropout(p=0.5, inplace=False),\n",
    "#     nn.Linear(in_features=4096, out_features=64, bias=True),\n",
    "# #     nn.ReLU(inplace=True),\n",
    "# #     nn.ReLU(inplace=True),\n",
    "# #     nn.Dropout(p=0.5, inplace=False),\n",
    "# #     nn.Linear(in_features=4096, out_features=1000, bias=True)\n",
    "# )\n",
    "\n",
    "model_up.fc = nn.Linear(512,256)\n",
    "model_dn.fc = nn.Linear(512,256)\n",
    "\n",
    "print(model_up)"
   ],
   "outputs": [
    {
     "output_type": "stream",
     "name": "stdout",
     "text": [
      "ResNet(\n",
      "  (conv1): Conv2d(3, 64, kernel_size=(7, 7), stride=(2, 2), padding=(3, 3), bias=False)\n",
      "  (bn1): BatchNorm2d(64, eps=1e-05, momentum=0.1, affine=True, track_running_stats=True)\n",
      "  (relu): ReLU(inplace=True)\n",
      "  (maxpool): MaxPool2d(kernel_size=3, stride=2, padding=1, dilation=1, ceil_mode=False)\n",
      "  (layer1): Sequential(\n",
      "    (0): BasicBlock(\n",
      "      (conv1): Conv2d(64, 64, kernel_size=(3, 3), stride=(1, 1), padding=(1, 1), bias=False)\n",
      "      (bn1): BatchNorm2d(64, eps=1e-05, momentum=0.1, affine=True, track_running_stats=True)\n",
      "      (relu): ReLU(inplace=True)\n",
      "      (conv2): Conv2d(64, 64, kernel_size=(3, 3), stride=(1, 1), padding=(1, 1), bias=False)\n",
      "      (bn2): BatchNorm2d(64, eps=1e-05, momentum=0.1, affine=True, track_running_stats=True)\n",
      "    )\n",
      "    (1): BasicBlock(\n",
      "      (conv1): Conv2d(64, 64, kernel_size=(3, 3), stride=(1, 1), padding=(1, 1), bias=False)\n",
      "      (bn1): BatchNorm2d(64, eps=1e-05, momentum=0.1, affine=True, track_running_stats=True)\n",
      "      (relu): ReLU(inplace=True)\n",
      "      (conv2): Conv2d(64, 64, kernel_size=(3, 3), stride=(1, 1), padding=(1, 1), bias=False)\n",
      "      (bn2): BatchNorm2d(64, eps=1e-05, momentum=0.1, affine=True, track_running_stats=True)\n",
      "    )\n",
      "  )\n",
      "  (layer2): Sequential(\n",
      "    (0): BasicBlock(\n",
      "      (conv1): Conv2d(64, 128, kernel_size=(3, 3), stride=(2, 2), padding=(1, 1), bias=False)\n",
      "      (bn1): BatchNorm2d(128, eps=1e-05, momentum=0.1, affine=True, track_running_stats=True)\n",
      "      (relu): ReLU(inplace=True)\n",
      "      (conv2): Conv2d(128, 128, kernel_size=(3, 3), stride=(1, 1), padding=(1, 1), bias=False)\n",
      "      (bn2): BatchNorm2d(128, eps=1e-05, momentum=0.1, affine=True, track_running_stats=True)\n",
      "      (downsample): Sequential(\n",
      "        (0): Conv2d(64, 128, kernel_size=(1, 1), stride=(2, 2), bias=False)\n",
      "        (1): BatchNorm2d(128, eps=1e-05, momentum=0.1, affine=True, track_running_stats=True)\n",
      "      )\n",
      "    )\n",
      "    (1): BasicBlock(\n",
      "      (conv1): Conv2d(128, 128, kernel_size=(3, 3), stride=(1, 1), padding=(1, 1), bias=False)\n",
      "      (bn1): BatchNorm2d(128, eps=1e-05, momentum=0.1, affine=True, track_running_stats=True)\n",
      "      (relu): ReLU(inplace=True)\n",
      "      (conv2): Conv2d(128, 128, kernel_size=(3, 3), stride=(1, 1), padding=(1, 1), bias=False)\n",
      "      (bn2): BatchNorm2d(128, eps=1e-05, momentum=0.1, affine=True, track_running_stats=True)\n",
      "    )\n",
      "  )\n",
      "  (layer3): Sequential(\n",
      "    (0): BasicBlock(\n",
      "      (conv1): Conv2d(128, 256, kernel_size=(3, 3), stride=(2, 2), padding=(1, 1), bias=False)\n",
      "      (bn1): BatchNorm2d(256, eps=1e-05, momentum=0.1, affine=True, track_running_stats=True)\n",
      "      (relu): ReLU(inplace=True)\n",
      "      (conv2): Conv2d(256, 256, kernel_size=(3, 3), stride=(1, 1), padding=(1, 1), bias=False)\n",
      "      (bn2): BatchNorm2d(256, eps=1e-05, momentum=0.1, affine=True, track_running_stats=True)\n",
      "      (downsample): Sequential(\n",
      "        (0): Conv2d(128, 256, kernel_size=(1, 1), stride=(2, 2), bias=False)\n",
      "        (1): BatchNorm2d(256, eps=1e-05, momentum=0.1, affine=True, track_running_stats=True)\n",
      "      )\n",
      "    )\n",
      "    (1): BasicBlock(\n",
      "      (conv1): Conv2d(256, 256, kernel_size=(3, 3), stride=(1, 1), padding=(1, 1), bias=False)\n",
      "      (bn1): BatchNorm2d(256, eps=1e-05, momentum=0.1, affine=True, track_running_stats=True)\n",
      "      (relu): ReLU(inplace=True)\n",
      "      (conv2): Conv2d(256, 256, kernel_size=(3, 3), stride=(1, 1), padding=(1, 1), bias=False)\n",
      "      (bn2): BatchNorm2d(256, eps=1e-05, momentum=0.1, affine=True, track_running_stats=True)\n",
      "    )\n",
      "  )\n",
      "  (layer4): Sequential(\n",
      "    (0): BasicBlock(\n",
      "      (conv1): Conv2d(256, 512, kernel_size=(3, 3), stride=(2, 2), padding=(1, 1), bias=False)\n",
      "      (bn1): BatchNorm2d(512, eps=1e-05, momentum=0.1, affine=True, track_running_stats=True)\n",
      "      (relu): ReLU(inplace=True)\n",
      "      (conv2): Conv2d(512, 512, kernel_size=(3, 3), stride=(1, 1), padding=(1, 1), bias=False)\n",
      "      (bn2): BatchNorm2d(512, eps=1e-05, momentum=0.1, affine=True, track_running_stats=True)\n",
      "      (downsample): Sequential(\n",
      "        (0): Conv2d(256, 512, kernel_size=(1, 1), stride=(2, 2), bias=False)\n",
      "        (1): BatchNorm2d(512, eps=1e-05, momentum=0.1, affine=True, track_running_stats=True)\n",
      "      )\n",
      "    )\n",
      "    (1): BasicBlock(\n",
      "      (conv1): Conv2d(512, 512, kernel_size=(3, 3), stride=(1, 1), padding=(1, 1), bias=False)\n",
      "      (bn1): BatchNorm2d(512, eps=1e-05, momentum=0.1, affine=True, track_running_stats=True)\n",
      "      (relu): ReLU(inplace=True)\n",
      "      (conv2): Conv2d(512, 512, kernel_size=(3, 3), stride=(1, 1), padding=(1, 1), bias=False)\n",
      "      (bn2): BatchNorm2d(512, eps=1e-05, momentum=0.1, affine=True, track_running_stats=True)\n",
      "    )\n",
      "  )\n",
      "  (avgpool): AdaptiveAvgPool2d(output_size=(1, 1))\n",
      "  (fc): Linear(in_features=512, out_features=256, bias=True)\n",
      ")\n"
     ]
    }
   ],
   "metadata": {
    "execution": {
     "iopub.execute_input": "2021-04-25T03:27:03.316298Z",
     "iopub.status.busy": "2021-04-25T03:27:03.315532Z",
     "iopub.status.idle": "2021-04-25T03:27:03.323094Z",
     "shell.execute_reply": "2021-04-25T03:27:03.322543Z"
    },
    "papermill": {
     "duration": 0.045985,
     "end_time": "2021-04-25T03:27:03.323205",
     "exception": false,
     "start_time": "2021-04-25T03:27:03.277220",
     "status": "completed"
    },
    "tags": []
   }
  },
  {
   "cell_type": "code",
   "execution_count": 14,
   "source": [
    "class My_Model(nn.Module):\n",
    "    def __init__(self, model_up, model_dn):\n",
    "        super().__init__()\n",
    "        self.model_up = model_up\n",
    "        self.model_dn = model_dn\n",
    "        \n",
    "        self.linear1 = nn.Linear(512, 512)\n",
    "        self.linear2 = nn.Linear(512, 1)\n",
    "        self.softmax = nn.Softmax(dim=1)\n",
    "        self.sigmoid = nn.Sigmoid()\n",
    "        self.dropout = nn.Dropout()\n",
    "        self.relu = nn.ReLU()\n",
    "        \n",
    "    def forward(self, post_img, pre_img):\n",
    "        final_up = self.model_up(post_img)\n",
    "#         print('final_up : ', final_up.shape)\n",
    "        final_dn = self.model_dn(pre_img)   \n",
    "#         print('final_dn : ', final_dn.shape)\n",
    "        \n",
    "        x = torch.cat((final_up, final_dn),1)\n",
    "#         print(x.shape)\n",
    "        x = self.relu(self.linear1(x))\n",
    "#        x = self.dropout(x)\n",
    "        x = self.linear2(x)\n",
    "        x = self.sigmoid(x)\n",
    "        return x\n",
    "        "
   ],
   "outputs": [],
   "metadata": {
    "execution": {
     "iopub.execute_input": "2021-04-25T03:27:03.396196Z",
     "iopub.status.busy": "2021-04-25T03:27:03.395440Z",
     "iopub.status.idle": "2021-04-25T03:27:03.397105Z",
     "shell.execute_reply": "2021-04-25T03:27:03.396660Z"
    },
    "papermill": {
     "duration": 0.042618,
     "end_time": "2021-04-25T03:27:03.397217",
     "exception": false,
     "start_time": "2021-04-25T03:27:03.354599",
     "status": "completed"
    },
    "tags": []
   }
  },
  {
   "cell_type": "code",
   "execution_count": 15,
   "source": [
    "model = My_Model(model_up, model_dn)\n",
    "device = torch.device(\"cuda:0\" if torch.cuda.is_available() else \"cpu\")\n",
    "model = model.to(device)\n",
    "\n",
    "# criterion = nn.CrossEntropyLoss()\n",
    "criterion = nn.BCELoss()\n",
    "optimizer = torch.optim.Adam(model.parameters(), lr=CFG.LEARNING_RATE)\n",
    "\n",
    "def train(model, optimizer, criterion):\n",
    "    train_loss = []\n",
    "    eval_loss = []\n",
    "    macro_f1 = []\n",
    "    for epoch in tqdm(range(CFG.EPOCHS)):\n",
    "        train_loss_per_epoch = 0\n",
    "        model.train()\n",
    "        true_labels = []\n",
    "        pred_labels = []\n",
    "        \n",
    "        for post_img, pre_img, labels in train_dataloader:\n",
    "            post_img = post_img.to(device)\n",
    "            pre_img = pre_img.to(device)\n",
    "            labels = labels.reshape(-1,1).float()\n",
    "            labels = labels.to(device)\n",
    "            \n",
    "            out = model(post_img, pre_img)\n",
    "            \n",
    "            loss = criterion(out, labels)\n",
    "            train_loss_per_epoch += loss.item() / len(train_dataloader)\n",
    "            \n",
    "            true_labels.append(labels.cpu().numpy())\n",
    "            pred_labels.append(out.detach().cpu().numpy())\n",
    "            \n",
    "            optimizer.zero_grad()\n",
    "            loss.backward()\n",
    "            optimizer.step()\n",
    "            \n",
    "        train_loss.append(train_loss_per_epoch)\n",
    "        model.eval()\n",
    "        with torch.no_grad():\n",
    "            val_loss_per_epoch = 0\n",
    "            for post_img, pre_img, labels in val_dataloader:\n",
    "                post_img = post_img.to(device)\n",
    "                pre_img = pre_img.to(device)\n",
    "                labels = labels.to(device)\n",
    "                labels_ = labels.reshape((-1, 1)).float()\n",
    "                \n",
    "                out = model(post_img, pre_img)\n",
    "                loss = criterion(out, labels_)\n",
    "                \n",
    "                val_loss_per_epoch += loss.item() / len(val_dataloader)\n",
    "                \n",
    "        eval_loss.append(val_loss_per_epoch)\n",
    "        \n",
    "        true_labels = np.concatenate(true_labels)\n",
    "        pred_labels = np.concatenate(pred_labels) \n",
    "        pred_labels[pred_labels>0.5] = 1\n",
    "        pred_labels[pred_labels<=0.5] = 0\n",
    "        macro_f1_per_epoch = sklearn.metrics.f1_score(true_labels, pred_labels, average='macro')\n",
    "        macro_f1.append(macro_f1_per_epoch)\n",
    "        \n",
    "        print(f\"EPOCH: {epoch+1}\\tTRAIN_LOSS: {train_loss_per_epoch}\\tVAL_LOSS: {val_loss_per_epoch}\\tMACRO_F1: {macro_f1_per_epoch}\")\n",
    "        \n",
    "    return train_loss, eval_loss, macro_f1\n",
    "        \n",
    "        "
   ],
   "outputs": [],
   "metadata": {
    "execution": {
     "iopub.execute_input": "2021-04-25T03:27:03.475154Z",
     "iopub.status.busy": "2021-04-25T03:27:03.474405Z",
     "iopub.status.idle": "2021-04-25T03:27:07.823218Z",
     "shell.execute_reply": "2021-04-25T03:27:07.822676Z"
    },
    "papermill": {
     "duration": 4.394092,
     "end_time": "2021-04-25T03:27:07.823353",
     "exception": false,
     "start_time": "2021-04-25T03:27:03.429261",
     "status": "completed"
    },
    "tags": []
   }
  },
  {
   "cell_type": "code",
   "execution_count": 16,
   "source": [
    "train_loss, eval_loss, macro_f1 = train(model, optimizer, criterion)"
   ],
   "outputs": [
    {
     "output_type": "display_data",
     "data": {
      "text/plain": [
       "  0%|          | 0/200 [00:00<?, ?it/s]"
      ],
      "application/vnd.jupyter.widget-view+json": {
       "model_id": "18bdc79a229d43a5bf762a8fff0bd8cc",
       "version_major": 2,
       "version_minor": 0
      }
     },
     "metadata": {}
    },
    {
     "output_type": "stream",
     "name": "stdout",
     "text": [
      "EPOCH: 1\tTRAIN_LOSS: 0.699153745174408\tVAL_LOSS: 0.6847032755613327\tMACRO_F1: 0.5040800721425561\n",
      "EPOCH: 2\tTRAIN_LOSS: 0.6504061079025267\tVAL_LOSS: 0.6189822852611542\tMACRO_F1: 0.6698328528817712\n",
      "EPOCH: 3\tTRAIN_LOSS: 0.5670016789436341\tVAL_LOSS: 0.5540732741355896\tMACRO_F1: 0.6916090392399291\n",
      "EPOCH: 4\tTRAIN_LOSS: 0.4947918212413788\tVAL_LOSS: 0.5213211327791214\tMACRO_F1: 0.7495378942524955\n",
      "EPOCH: 5\tTRAIN_LOSS: 0.4811339819431305\tVAL_LOSS: 0.5402812361717224\tMACRO_F1: 0.7557931555308239\n",
      "EPOCH: 6\tTRAIN_LOSS: 0.4570298743247985\tVAL_LOSS: 0.5059781298041344\tMACRO_F1: 0.7811760133911452\n",
      "EPOCH: 7\tTRAIN_LOSS: 0.45942164540290825\tVAL_LOSS: 0.5725979655981064\tMACRO_F1: 0.7676767676767677\n",
      "EPOCH: 8\tTRAIN_LOSS: 0.4519185233116151\tVAL_LOSS: 0.5041152536869049\tMACRO_F1: 0.7728451032182518\n",
      "EPOCH: 9\tTRAIN_LOSS: 0.4274931025505066\tVAL_LOSS: 0.504592053592205\tMACRO_F1: 0.7883321262808627\n",
      "EPOCH: 10\tTRAIN_LOSS: 0.40183604478836055\tVAL_LOSS: 0.49112990498542786\tMACRO_F1: 0.8072754314483053\n",
      "EPOCH: 11\tTRAIN_LOSS: 0.41557677865028375\tVAL_LOSS: 0.4908544644713402\tMACRO_F1: 0.8036367453421933\n",
      "EPOCH: 12\tTRAIN_LOSS: 0.3872961366176605\tVAL_LOSS: 0.5217250883579254\tMACRO_F1: 0.8070132492522752\n",
      "EPOCH: 13\tTRAIN_LOSS: 0.3735187649726868\tVAL_LOSS: 0.5065114051103592\tMACRO_F1: 0.8191136569189026\n",
      "EPOCH: 14\tTRAIN_LOSS: 0.362500854730606\tVAL_LOSS: 0.5662367194890976\tMACRO_F1: 0.8262071440827783\n",
      "EPOCH: 15\tTRAIN_LOSS: 0.3805325001478195\tVAL_LOSS: 0.498561292886734\tMACRO_F1: 0.8203379342945671\n",
      "EPOCH: 16\tTRAIN_LOSS: 0.3260286289453507\tVAL_LOSS: 0.4998534321784973\tMACRO_F1: 0.8638324040443972\n",
      "EPOCH: 17\tTRAIN_LOSS: 0.3264334529638291\tVAL_LOSS: 0.5111622586846352\tMACRO_F1: 0.8516933508661957\n",
      "EPOCH: 18\tTRAIN_LOSS: 0.3051320916414261\tVAL_LOSS: 0.5746370702981949\tMACRO_F1: 0.8764928515143928\n",
      "EPOCH: 19\tTRAIN_LOSS: 0.31688060998916623\tVAL_LOSS: 0.47162387520074844\tMACRO_F1: 0.8558714373220913\n",
      "EPOCH: 20\tTRAIN_LOSS: 0.2691966056823731\tVAL_LOSS: 0.4747239276766777\tMACRO_F1: 0.8852858314289397\n",
      "EPOCH: 21\tTRAIN_LOSS: 0.2790167760848999\tVAL_LOSS: 0.48880742490291595\tMACRO_F1: 0.883597039234369\n",
      "EPOCH: 22\tTRAIN_LOSS: 0.23341836154460907\tVAL_LOSS: 0.48985913395881653\tMACRO_F1: 0.9104949029429104\n",
      "EPOCH: 23\tTRAIN_LOSS: 0.2346158331632614\tVAL_LOSS: 0.5493201017379761\tMACRO_F1: 0.9061350153938574\n",
      "EPOCH: 24\tTRAIN_LOSS: 0.2629406595230103\tVAL_LOSS: 0.4921003058552742\tMACRO_F1: 0.8879926475620608\n",
      "EPOCH: 25\tTRAIN_LOSS: 0.21042866170406344\tVAL_LOSS: 0.5345572531223297\tMACRO_F1: 0.919352034231623\n",
      "EPOCH: 26\tTRAIN_LOSS: 0.1972135812044144\tVAL_LOSS: 0.4659389480948448\tMACRO_F1: 0.9280460474012305\n",
      "EPOCH: 27\tTRAIN_LOSS: 0.17743131488561634\tVAL_LOSS: 0.47199292480945587\tMACRO_F1: 0.9387223293018254\n",
      "EPOCH: 28\tTRAIN_LOSS: 0.1684485110640526\tVAL_LOSS: 0.5217537060379982\tMACRO_F1: 0.9393550771952817\n",
      "EPOCH: 29\tTRAIN_LOSS: 0.18732192635536193\tVAL_LOSS: 0.6571284532546997\tMACRO_F1: 0.9287409812804432\n",
      "EPOCH: 30\tTRAIN_LOSS: 0.1923199486732483\tVAL_LOSS: 0.5035515800118446\tMACRO_F1: 0.9268475392520396\n",
      "EPOCH: 31\tTRAIN_LOSS: 0.15184091478586195\tVAL_LOSS: 0.5679977685213089\tMACRO_F1: 0.9437148217636022\n",
      "EPOCH: 32\tTRAIN_LOSS: 0.13261901378631594\tVAL_LOSS: 0.5888003781437874\tMACRO_F1: 0.9562489062226556\n",
      "EPOCH: 33\tTRAIN_LOSS: 0.12292419165372849\tVAL_LOSS: 0.6354624629020691\tMACRO_F1: 0.9587435536802625\n",
      "EPOCH: 34\tTRAIN_LOSS: 0.14244980782270428\tVAL_LOSS: 0.5516778603196144\tMACRO_F1: 0.9468598675169609\n",
      "EPOCH: 35\tTRAIN_LOSS: 0.11669571191072464\tVAL_LOSS: 0.5246572941541672\tMACRO_F1: 0.964373316082518\n",
      "EPOCH: 36\tTRAIN_LOSS: 0.11595842212438583\tVAL_LOSS: 0.5416862219572067\tMACRO_F1: 0.9581202721713507\n",
      "EPOCH: 37\tTRAIN_LOSS: 0.15263407275080682\tVAL_LOSS: 0.5199497938156128\tMACRO_F1: 0.9381143392279685\n",
      "EPOCH: 38\tTRAIN_LOSS: 0.11708378240466119\tVAL_LOSS: 0.5010397061705589\tMACRO_F1: 0.9599924360699444\n",
      "EPOCH: 39\tTRAIN_LOSS: 0.10474007576704024\tVAL_LOSS: 0.6508317440748215\tMACRO_F1: 0.9631197993154503\n",
      "EPOCH: 40\tTRAIN_LOSS: 0.09142492488026617\tVAL_LOSS: 0.5132767930626869\tMACRO_F1: 0.9706208570817996\n",
      "EPOCH: 41\tTRAIN_LOSS: 0.08627446293830872\tVAL_LOSS: 0.6749546080827713\tMACRO_F1: 0.9731232257129474\n",
      "EPOCH: 42\tTRAIN_LOSS: 0.09008743509650231\tVAL_LOSS: 0.6825180500745773\tMACRO_F1: 0.9693735524218137\n",
      "EPOCH: 43\tTRAIN_LOSS: 0.07998095333576202\tVAL_LOSS: 0.6592931896448135\tMACRO_F1: 0.9756249143063394\n",
      "EPOCH: 44\tTRAIN_LOSS: 0.07722581386566164\tVAL_LOSS: 0.7529772967100143\tMACRO_F1: 0.9806240841852292\n",
      "EPOCH: 45\tTRAIN_LOSS: 0.061319646537303936\tVAL_LOSS: 0.6912868320941925\tMACRO_F1: 0.985624724848249\n",
      "EPOCH: 46\tTRAIN_LOSS: 0.06634673304855823\tVAL_LOSS: 0.6373837143182755\tMACRO_F1: 0.97625\n",
      "EPOCH: 47\tTRAIN_LOSS: 0.07331860162317752\tVAL_LOSS: 0.6576956659555435\tMACRO_F1: 0.9787488046202598\n",
      "EPOCH: 48\tTRAIN_LOSS: 0.0678996305167675\tVAL_LOSS: 0.7382189035415649\tMACRO_F1: 0.9756238478459334\n",
      "EPOCH: 49\tTRAIN_LOSS: 0.06346689093858005\tVAL_LOSS: 0.7709627598524094\tMACRO_F1: 0.9787494687367184\n",
      "EPOCH: 50\tTRAIN_LOSS: 0.0697373602539301\tVAL_LOSS: 0.6029810607433319\tMACRO_F1: 0.9768747741677164\n",
      "EPOCH: 51\tTRAIN_LOSS: 0.052950692623853685\tVAL_LOSS: 0.6755136102437973\tMACRO_F1: 0.9856249943847635\n",
      "EPOCH: 52\tTRAIN_LOSS: 0.05922514148056507\tVAL_LOSS: 0.7229271084070206\tMACRO_F1: 0.9818749929199191\n",
      "EPOCH: 53\tTRAIN_LOSS: 0.05818342022597789\tVAL_LOSS: 0.7274583876132965\tMACRO_F1: 0.98125\n",
      "EPOCH: 54\tTRAIN_LOSS: 0.04408882096409797\tVAL_LOSS: 0.6647994667291641\tMACRO_F1: 0.9924999531247072\n",
      "EPOCH: 55\tTRAIN_LOSS: 0.04799787551164627\tVAL_LOSS: 0.7698463127017021\tMACRO_F1: 0.9849999062494141\n",
      "EPOCH: 56\tTRAIN_LOSS: 0.0440429263561964\tVAL_LOSS: 0.7256976813077927\tMACRO_F1: 0.98875\n",
      "EPOCH: 57\tTRAIN_LOSS: 0.032236494868993756\tVAL_LOSS: 0.680577740073204\tMACRO_F1: 0.9943749978027335\n",
      "EPOCH: 58\tTRAIN_LOSS: 0.029805826768279083\tVAL_LOSS: 0.6452651917934418\tMACRO_F1: 0.9968749987792964\n",
      "EPOCH: 59\tTRAIN_LOSS: 0.032026425041258334\tVAL_LOSS: 0.741722509264946\tMACRO_F1: 0.99375\n",
      "EPOCH: 60\tTRAIN_LOSS: 0.04334518723189831\tVAL_LOSS: 0.6358728259801865\tMACRO_F1: 0.9843742614397009\n",
      "EPOCH: 61\tTRAIN_LOSS: 0.046713679581880566\tVAL_LOSS: 0.8095768541097641\tMACRO_F1: 0.9843749938964821\n",
      "EPOCH: 62\tTRAIN_LOSS: 0.050046683810651305\tVAL_LOSS: 0.8251105695962906\tMACRO_F1: 0.9856249943847635\n",
      "EPOCH: 63\tTRAIN_LOSS: 0.033206021524965754\tVAL_LOSS: 0.6284259185194969\tMACRO_F1: 0.9924999882812318\n",
      "EPOCH: 64\tTRAIN_LOSS: 0.046161426603794097\tVAL_LOSS: 0.7121003717184067\tMACRO_F1: 0.9862499140619628\n",
      "EPOCH: 65\tTRAIN_LOSS: 0.03947650786489247\tVAL_LOSS: 0.8550687432289124\tMACRO_F1: 0.9893749958496076\n",
      "EPOCH: 66\tTRAIN_LOSS: 0.03577435471117497\tVAL_LOSS: 0.6308764815330505\tMACRO_F1: 0.98875\n",
      "EPOCH: 67\tTRAIN_LOSS: 0.024081906992942097\tVAL_LOSS: 0.6935151815414429\tMACRO_F1: 0.9968749987792964\n",
      "EPOCH: 68\tTRAIN_LOSS: 0.020717032961547373\tVAL_LOSS: 0.7886160016059875\tMACRO_F1: 0.9956249982910149\n",
      "EPOCH: 69\tTRAIN_LOSS: 0.0331909927725792\tVAL_LOSS: 0.947427898645401\tMACRO_F1: 0.9887499824218475\n",
      "EPOCH: 70\tTRAIN_LOSS: 0.04402499973773957\tVAL_LOSS: 0.7193130850791931\tMACRO_F1: 0.986249656241406\n",
      "EPOCH: 71\tTRAIN_LOSS: 0.03219597913324833\tVAL_LOSS: 0.753939762711525\tMACRO_F1: 0.9906249670408998\n",
      "EPOCH: 72\tTRAIN_LOSS: 0.020946900658309453\tVAL_LOSS: 0.8172126114368439\tMACRO_F1: 0.9974999843749024\n",
      "EPOCH: 73\tTRAIN_LOSS: 0.01734899183735252\tVAL_LOSS: 0.7473819106817245\tMACRO_F1: 0.9981249992675779\n",
      "EPOCH: 74\tTRAIN_LOSS: 0.026778941508382562\tVAL_LOSS: 0.7105859667062759\tMACRO_F1: 0.9931249758299932\n",
      "EPOCH: 75\tTRAIN_LOSS: 0.022669616304337985\tVAL_LOSS: 0.8183963149785995\tMACRO_F1: 0.9962499765623535\n",
      "EPOCH: 76\tTRAIN_LOSS: 0.015426552891731261\tVAL_LOSS: 0.9013545662164688\tMACRO_F1: 0.99812499340818\n",
      "EPOCH: 77\tTRAIN_LOSS: 0.02313234530389309\tVAL_LOSS: 0.8876387774944305\tMACRO_F1: 0.9956249982910149\n",
      "EPOCH: 78\tTRAIN_LOSS: 0.011080862553790212\tVAL_LOSS: 0.8452796936035156\tMACRO_F1: 0.99875\n",
      "EPOCH: 79\tTRAIN_LOSS: 0.014681935291737315\tVAL_LOSS: 0.8622915893793106\tMACRO_F1: 0.9968749987792964\n",
      "EPOCH: 80\tTRAIN_LOSS: 0.013910545138642193\tVAL_LOSS: 0.7458291202783585\tMACRO_F1: 0.99875\n",
      "EPOCH: 81\tTRAIN_LOSS: 0.024669272769242523\tVAL_LOSS: 0.9498646855354309\tMACRO_F1: 0.9924999882812318\n",
      "EPOCH: 82\tTRAIN_LOSS: 0.024345727656036615\tVAL_LOSS: 0.8554817289113998\tMACRO_F1: 0.993124997314452\n",
      "EPOCH: 83\tTRAIN_LOSS: 0.025390422632917766\tVAL_LOSS: 1.0868812799453735\tMACRO_F1: 0.9937499902343597\n",
      "EPOCH: 84\tTRAIN_LOSS: 0.016341372653841973\tVAL_LOSS: 0.7995983213186264\tMACRO_F1: 0.9949999687498048\n",
      "EPOCH: 85\tTRAIN_LOSS: 0.01759837880730629\tVAL_LOSS: 0.9589096158742905\tMACRO_F1: 0.9962499941406158\n",
      "EPOCH: 86\tTRAIN_LOSS: 0.022129605505615473\tVAL_LOSS: 0.8326176702976227\tMACRO_F1: 0.993124997314452\n",
      "EPOCH: 87\tTRAIN_LOSS: 0.022614516988396647\tVAL_LOSS: 0.879544124007225\tMACRO_F1: 0.993124997314452\n",
      "EPOCH: 88\tTRAIN_LOSS: 0.06251022569835185\tVAL_LOSS: 0.9087946712970734\tMACRO_F1: 0.9743749899902304\n",
      "EPOCH: 89\tTRAIN_LOSS: 0.03021257352083921\tVAL_LOSS: 1.023070052266121\tMACRO_F1: 0.9918749714354465\n",
      "EPOCH: 90\tTRAIN_LOSS: 0.024956676252186297\tVAL_LOSS: 1.126908928155899\tMACRO_F1: 0.9906249670408998\n",
      "EPOCH: 91\tTRAIN_LOSS: 0.013607690250501037\tVAL_LOSS: 0.8450308740139008\tMACRO_F1: 0.9974999960937438\n",
      "EPOCH: 92\tTRAIN_LOSS: 0.011145654199644925\tVAL_LOSS: 1.0156384706497192\tMACRO_F1: 0.9993749997558593\n",
      "EPOCH: 93\tTRAIN_LOSS: 0.0099324384983629\tVAL_LOSS: 0.6874453127384186\tMACRO_F1: 0.9974999960937438\n",
      "EPOCH: 94\tTRAIN_LOSS: 0.009179034316912296\tVAL_LOSS: 0.8405841141939163\tMACRO_F1: 0.9993749997558593\n",
      "EPOCH: 95\tTRAIN_LOSS: 0.017994924392551185\tVAL_LOSS: 1.016599491238594\tMACRO_F1: 0.9968749890136333\n",
      "EPOCH: 96\tTRAIN_LOSS: 0.011052823029458522\tVAL_LOSS: 0.9601825475692749\tMACRO_F1: 0.99812499340818\n",
      "EPOCH: 97\tTRAIN_LOSS: 0.0074751336267218\tVAL_LOSS: 0.8561682999134064\tMACRO_F1: 0.9993749997558593\n",
      "EPOCH: 98\tTRAIN_LOSS: 0.011882093786261975\tVAL_LOSS: 0.8713014870882034\tMACRO_F1: 0.9968749987792964\n",
      "EPOCH: 99\tTRAIN_LOSS: 0.012998136254027485\tVAL_LOSS: 0.9089650362730026\tMACRO_F1: 0.9956249846190866\n",
      "EPOCH: 100\tTRAIN_LOSS: 0.012936244215816258\tVAL_LOSS: 0.8837099671363831\tMACRO_F1: 0.9981249992675779\n",
      "EPOCH: 101\tTRAIN_LOSS: 0.014621502440422776\tVAL_LOSS: 0.8824267685413361\tMACRO_F1: 0.9943749802245399\n",
      "EPOCH: 102\tTRAIN_LOSS: 0.02062135730870068\tVAL_LOSS: 0.9226622432470322\tMACRO_F1: 0.9949999921874878\n",
      "EPOCH: 103\tTRAIN_LOSS: 0.017879450349137186\tVAL_LOSS: 1.06327386200428\tMACRO_F1: 0.99375\n",
      "EPOCH: 104\tTRAIN_LOSS: 0.01280663819052279\tVAL_LOSS: 1.2021767795085907\tMACRO_F1: 0.9956249982910149\n",
      "EPOCH: 105\tTRAIN_LOSS: 0.021146183125674727\tVAL_LOSS: 0.8965309262275696\tMACRO_F1: 0.9949999921874878\n",
      "EPOCH: 106\tTRAIN_LOSS: 0.010855593346059322\tVAL_LOSS: 0.9261645376682281\tMACRO_F1: 0.9974999960937438\n",
      "EPOCH: 107\tTRAIN_LOSS: 0.010488635743968187\tVAL_LOSS: 1.258686140179634\tMACRO_F1: 0.9974999960937438\n",
      "EPOCH: 108\tTRAIN_LOSS: 0.015964535269886258\tVAL_LOSS: 0.8834991157054901\tMACRO_F1: 0.9956249982910149\n",
      "EPOCH: 109\tTRAIN_LOSS: 0.00764780348399654\tVAL_LOSS: 0.8365191668272018\tMACRO_F1: 0.9993749997558593\n",
      "EPOCH: 110\tTRAIN_LOSS: 0.006404790747910737\tVAL_LOSS: 1.1451057195663452\tMACRO_F1: 1.0\n",
      "EPOCH: 111\tTRAIN_LOSS: 0.004237510005477816\tVAL_LOSS: 0.7317204624414444\tMACRO_F1: 1.0\n",
      "EPOCH: 112\tTRAIN_LOSS: 0.004176604971289635\tVAL_LOSS: 1.1856921762228012\tMACRO_F1: 1.0\n",
      "EPOCH: 113\tTRAIN_LOSS: 0.008523611673153936\tVAL_LOSS: 0.9937946200370789\tMACRO_F1: 0.99812499340818\n",
      "EPOCH: 114\tTRAIN_LOSS: 0.01577133174985647\tVAL_LOSS: 1.1946770250797272\tMACRO_F1: 0.9943749802245399\n",
      "EPOCH: 115\tTRAIN_LOSS: 0.018372970186173912\tVAL_LOSS: 1.5859194099903107\tMACRO_F1: 0.9937499902343597\n",
      "EPOCH: 116\tTRAIN_LOSS: 0.024081705752760172\tVAL_LOSS: 0.9597631245851517\tMACRO_F1: 0.9924999882812318\n",
      "EPOCH: 117\tTRAIN_LOSS: 0.023904744568280883\tVAL_LOSS: 0.9097718298435211\tMACRO_F1: 0.9924998945297668\n",
      "EPOCH: 118\tTRAIN_LOSS: 0.019502291204407808\tVAL_LOSS: 0.8213330060243607\tMACRO_F1: 0.99625\n",
      "EPOCH: 119\tTRAIN_LOSS: 0.007263913867063822\tVAL_LOSS: 0.9475715756416321\tMACRO_F1: 0.9987499980468719\n",
      "EPOCH: 120\tTRAIN_LOSS: 0.004375283475965263\tVAL_LOSS: 1.1281709223985672\tMACRO_F1: 1.0\n",
      "EPOCH: 121\tTRAIN_LOSS: 0.005323832614813\tVAL_LOSS: 0.8362447917461395\tMACRO_F1: 0.9981249992675779\n",
      "EPOCH: 122\tTRAIN_LOSS: 0.009623870230279864\tVAL_LOSS: 1.1702907383441925\tMACRO_F1: 0.9974999960937438\n",
      "EPOCH: 123\tTRAIN_LOSS: 0.007047384409233929\tVAL_LOSS: 1.030778244137764\tMACRO_F1: 0.9981249992675779\n",
      "EPOCH: 124\tTRAIN_LOSS: 0.005811644857749343\tVAL_LOSS: 1.0621485859155655\tMACRO_F1: 1.0\n",
      "EPOCH: 125\tTRAIN_LOSS: 0.004007305537816138\tVAL_LOSS: 0.8550730049610138\tMACRO_F1: 1.0\n",
      "EPOCH: 126\tTRAIN_LOSS: 0.006536315559642389\tVAL_LOSS: 0.9150215089321136\tMACRO_F1: 0.9993749997558593\n",
      "EPOCH: 127\tTRAIN_LOSS: 0.003834840306080877\tVAL_LOSS: 1.024482935667038\tMACRO_F1: 0.9993749997558593\n",
      "EPOCH: 128\tTRAIN_LOSS: 0.0040801014681346726\tVAL_LOSS: 1.1320568472146988\tMACRO_F1: 1.0\n",
      "EPOCH: 129\tTRAIN_LOSS: 0.005740401523653417\tVAL_LOSS: 1.1788990795612335\tMACRO_F1: 0.9993749997558593\n",
      "EPOCH: 130\tTRAIN_LOSS: 0.0033760213735513386\tVAL_LOSS: 1.1575252711772919\tMACRO_F1: 0.9993749997558593\n",
      "EPOCH: 131\tTRAIN_LOSS: 0.009448774610646067\tVAL_LOSS: 1.236872285604477\tMACRO_F1: 0.9981249992675779\n",
      "EPOCH: 132\tTRAIN_LOSS: 0.007452636859379708\tVAL_LOSS: 1.1527948379516602\tMACRO_F1: 0.9993749997558593\n",
      "EPOCH: 133\tTRAIN_LOSS: 0.01804300566669554\tVAL_LOSS: 1.204644426703453\tMACRO_F1: 0.9943749978027335\n",
      "EPOCH: 134\tTRAIN_LOSS: 0.043390648136846725\tVAL_LOSS: 0.9863413572311401\tMACRO_F1: 0.9874999804687195\n",
      "EPOCH: 135\tTRAIN_LOSS: 0.01552870603278279\tVAL_LOSS: 1.3528426736593246\tMACRO_F1: 0.9937499609372558\n",
      "EPOCH: 136\tTRAIN_LOSS: 0.02808348463848233\tVAL_LOSS: 1.1308985278010368\tMACRO_F1: 0.9868749948730449\n",
      "EPOCH: 137\tTRAIN_LOSS: 0.026934657134115695\tVAL_LOSS: 1.377937838435173\tMACRO_F1: 0.9899999843749756\n",
      "EPOCH: 138\tTRAIN_LOSS: 0.03432492690393701\tVAL_LOSS: 1.4015087485313416\tMACRO_F1: 0.9881249953613264\n",
      "EPOCH: 139\tTRAIN_LOSS: 0.03649825580418109\tVAL_LOSS: 1.3568316102027893\tMACRO_F1: 0.9856249943847635\n",
      "EPOCH: 140\tTRAIN_LOSS: 0.01968147474341095\tVAL_LOSS: 1.755328357219696\tMACRO_F1: 0.993124997314452\n",
      "EPOCH: 141\tTRAIN_LOSS: 0.03926720795221627\tVAL_LOSS: 1.024258017539978\tMACRO_F1: 0.9856249943847635\n",
      "EPOCH: 142\tTRAIN_LOSS: 0.018047812660224736\tVAL_LOSS: 0.890705332159996\tMACRO_F1: 0.9937499609372558\n",
      "EPOCH: 143\tTRAIN_LOSS: 0.013961633765138684\tVAL_LOSS: 1.3010650277137756\tMACRO_F1: 0.99375\n",
      "EPOCH: 144\tTRAIN_LOSS: 0.00798611027188599\tVAL_LOSS: 1.2049603909254074\tMACRO_F1: 0.9975\n",
      "EPOCH: 145\tTRAIN_LOSS: 0.005672385341022164\tVAL_LOSS: 1.2296811044216156\tMACRO_F1: 0.99875\n",
      "EPOCH: 146\tTRAIN_LOSS: 0.003962731086649\tVAL_LOSS: 0.9970454275608063\tMACRO_F1: 1.0\n",
      "EPOCH: 147\tTRAIN_LOSS: 0.005854488250333814\tVAL_LOSS: 0.9592172801494598\tMACRO_F1: 0.99875\n",
      "EPOCH: 148\tTRAIN_LOSS: 0.009406861222814769\tVAL_LOSS: 1.1490343511104584\tMACRO_F1: 0.9974999960937438\n",
      "EPOCH: 149\tTRAIN_LOSS: 0.002938635506434367\tVAL_LOSS: 1.5240438431501389\tMACRO_F1: 1.0\n",
      "EPOCH: 150\tTRAIN_LOSS: 0.002314691140782088\tVAL_LOSS: 1.4081690907478333\tMACRO_F1: 0.9993749997558593\n",
      "EPOCH: 151\tTRAIN_LOSS: 0.007343262840295209\tVAL_LOSS: 1.2856425195932388\tMACRO_F1: 0.9981249992675779\n",
      "EPOCH: 152\tTRAIN_LOSS: 0.005688435968477279\tVAL_LOSS: 1.3962479829788208\tMACRO_F1: 0.99875\n",
      "EPOCH: 153\tTRAIN_LOSS: 0.00815448945388198\tVAL_LOSS: 1.2402475029230118\tMACRO_F1: 0.9981249992675779\n",
      "EPOCH: 154\tTRAIN_LOSS: 0.0031891221564728763\tVAL_LOSS: 1.102783203125\tMACRO_F1: 0.9993749997558593\n",
      "EPOCH: 155\tTRAIN_LOSS: 0.006357934440020472\tVAL_LOSS: 1.094618409872055\tMACRO_F1: 0.9981249992675779\n",
      "EPOCH: 156\tTRAIN_LOSS: 0.006689896408934145\tVAL_LOSS: 1.4676073789596558\tMACRO_F1: 0.9981249992675779\n",
      "EPOCH: 157\tTRAIN_LOSS: 0.0040355296200141316\tVAL_LOSS: 1.7180227935314178\tMACRO_F1: 0.9993749997558593\n",
      "EPOCH: 158\tTRAIN_LOSS: 0.004848991073668004\tVAL_LOSS: 1.411638543009758\tMACRO_F1: 0.99875\n",
      "EPOCH: 159\tTRAIN_LOSS: 0.0038234846899285906\tVAL_LOSS: 1.1207804530858994\tMACRO_F1: 0.9993749997558593\n",
      "EPOCH: 160\tTRAIN_LOSS: 0.007384349417407066\tVAL_LOSS: 1.7279252409934998\tMACRO_F1: 0.9981249992675779\n",
      "EPOCH: 161\tTRAIN_LOSS: 0.008465543797938154\tVAL_LOSS: 1.6592150926589966\tMACRO_F1: 0.9975\n",
      "EPOCH: 162\tTRAIN_LOSS: 0.010558894779533147\tVAL_LOSS: 2.0413277000188828\tMACRO_F1: 0.9956249572749734\n",
      "EPOCH: 163\tTRAIN_LOSS: 0.006705867240671067\tVAL_LOSS: 1.3860234022140503\tMACRO_F1: 0.9981249992675779\n",
      "EPOCH: 164\tTRAIN_LOSS: 0.0036303102714009584\tVAL_LOSS: 1.3082856237888336\tMACRO_F1: 0.9987499980468719\n",
      "EPOCH: 165\tTRAIN_LOSS: 0.008445221630390734\tVAL_LOSS: 1.1987127512693405\tMACRO_F1: 0.9993749997558593\n",
      "EPOCH: 166\tTRAIN_LOSS: 0.011442274478031322\tVAL_LOSS: 1.1890398412942886\tMACRO_F1: 0.99625\n",
      "EPOCH: 167\tTRAIN_LOSS: 0.008461136487312615\tVAL_LOSS: 1.228575587272644\tMACRO_F1: 0.9974999960937438\n",
      "EPOCH: 168\tTRAIN_LOSS: 0.012915360140614212\tVAL_LOSS: 1.2745833992958069\tMACRO_F1: 0.9956249982910149\n",
      "EPOCH: 169\tTRAIN_LOSS: 0.019046135258395228\tVAL_LOSS: 1.674787312746048\tMACRO_F1: 0.9937499609372558\n",
      "EPOCH: 170\tTRAIN_LOSS: 0.013043809439986944\tVAL_LOSS: 1.9281173646450043\tMACRO_F1: 0.9974999960937438\n",
      "EPOCH: 171\tTRAIN_LOSS: 0.007223283181665466\tVAL_LOSS: 1.515542209148407\tMACRO_F1: 0.9974999960937438\n",
      "EPOCH: 172\tTRAIN_LOSS: 0.00575584353529848\tVAL_LOSS: 1.2525350749492645\tMACRO_F1: 0.9975\n",
      "EPOCH: 173\tTRAIN_LOSS: 0.008813317059539258\tVAL_LOSS: 1.4838015139102936\tMACRO_F1: 0.9981249992675779\n",
      "EPOCH: 174\tTRAIN_LOSS: 0.015002296434249732\tVAL_LOSS: 1.4409640431404114\tMACRO_F1: 0.99625\n",
      "EPOCH: 175\tTRAIN_LOSS: 0.03526105060242116\tVAL_LOSS: 1.2853277623653412\tMACRO_F1: 0.9868749538572597\n",
      "EPOCH: 176\tTRAIN_LOSS: 0.03038777527399361\tVAL_LOSS: 1.3555500209331512\tMACRO_F1: 0.9893749958496076\n",
      "EPOCH: 177\tTRAIN_LOSS: 0.11208814061712473\tVAL_LOSS: 1.6108742654323578\tMACRO_F1: 0.9681248879390592\n",
      "EPOCH: 178\tTRAIN_LOSS: 0.04331071835244074\tVAL_LOSS: 1.585511952638626\tMACRO_F1: 0.9849999765624633\n",
      "EPOCH: 179\tTRAIN_LOSS: 0.014573295211885124\tVAL_LOSS: 0.9474069103598595\tMACRO_F1: 0.9943749802245399\n",
      "EPOCH: 180\tTRAIN_LOSS: 0.006915890071541071\tVAL_LOSS: 1.1792047619819641\tMACRO_F1: 0.9975\n",
      "EPOCH: 181\tTRAIN_LOSS: 0.009081692120525984\tVAL_LOSS: 1.7704509496688843\tMACRO_F1: 0.9968749987792964\n",
      "EPOCH: 182\tTRAIN_LOSS: 0.013136903699487446\tVAL_LOSS: 1.5779486745595932\tMACRO_F1: 0.9956249982910149\n",
      "EPOCH: 183\tTRAIN_LOSS: 0.007577735699014737\tVAL_LOSS: 1.160902053117752\tMACRO_F1: 0.99812499340818\n",
      "EPOCH: 184\tTRAIN_LOSS: 0.006113539757207037\tVAL_LOSS: 1.2673219442367554\tMACRO_F1: 0.9981249992675779\n",
      "EPOCH: 185\tTRAIN_LOSS: 0.0026844163320492954\tVAL_LOSS: 1.3771392107009888\tMACRO_F1: 1.0\n",
      "EPOCH: 186\tTRAIN_LOSS: 0.001192264403216541\tVAL_LOSS: 1.4516717195510864\tMACRO_F1: 1.0\n",
      "EPOCH: 187\tTRAIN_LOSS: 0.0010827659582719204\tVAL_LOSS: 1.3705231547355652\tMACRO_F1: 1.0\n",
      "EPOCH: 188\tTRAIN_LOSS: 0.000898688113084063\tVAL_LOSS: 2.7948315143585205\tMACRO_F1: 1.0\n",
      "EPOCH: 189\tTRAIN_LOSS: 0.0011773358751088379\tVAL_LOSS: 1.388922542333603\tMACRO_F1: 1.0\n",
      "EPOCH: 190\tTRAIN_LOSS: 0.0012851887132273986\tVAL_LOSS: 1.4048521220684052\tMACRO_F1: 1.0\n",
      "EPOCH: 191\tTRAIN_LOSS: 0.0014075479429448022\tVAL_LOSS: 2.8761570155620575\tMACRO_F1: 1.0\n",
      "EPOCH: 192\tTRAIN_LOSS: 0.0010654896550113333\tVAL_LOSS: 1.2393420189619064\tMACRO_F1: 1.0\n",
      "EPOCH: 193\tTRAIN_LOSS: 0.0015892619686201216\tVAL_LOSS: 1.8589252531528473\tMACRO_F1: 1.0\n",
      "EPOCH: 194\tTRAIN_LOSS: 0.001800440010847524\tVAL_LOSS: 1.4939739406108856\tMACRO_F1: 0.9993749997558593\n",
      "EPOCH: 195\tTRAIN_LOSS: 0.0037961236014962202\tVAL_LOSS: 1.3645270764827728\tMACRO_F1: 0.9993749997558593\n",
      "EPOCH: 196\tTRAIN_LOSS: 0.0024069870455423375\tVAL_LOSS: 1.4367835819721222\tMACRO_F1: 0.9987499980468719\n",
      "EPOCH: 197\tTRAIN_LOSS: 0.0041166383610107\tVAL_LOSS: 1.2939752489328384\tMACRO_F1: 0.99875\n",
      "EPOCH: 198\tTRAIN_LOSS: 0.005814200811437332\tVAL_LOSS: 3.0963199734687805\tMACRO_F1: 0.9974999960937438\n",
      "EPOCH: 199\tTRAIN_LOSS: 0.0079644878662657\tVAL_LOSS: 1.4985773116350174\tMACRO_F1: 0.9975\n",
      "EPOCH: 200\tTRAIN_LOSS: 0.014541766935144553\tVAL_LOSS: 3.264390856027603\tMACRO_F1: 0.9937499902343597\n"
     ]
    }
   ],
   "metadata": {
    "execution": {
     "iopub.execute_input": "2021-04-25T03:27:07.919035Z",
     "iopub.status.busy": "2021-04-25T03:27:07.917920Z",
     "iopub.status.idle": "2021-04-25T05:30:59.814184Z",
     "shell.execute_reply": "2021-04-25T05:30:59.812238Z"
    },
    "papermill": {
     "duration": 7431.958843,
     "end_time": "2021-04-25T05:30:59.814315",
     "exception": false,
     "start_time": "2021-04-25T03:27:07.855472",
     "status": "completed"
    },
    "tags": []
   }
  },
  {
   "cell_type": "code",
   "execution_count": 17,
   "source": [
    "plt.plot(train_loss, label='Train')\n",
    "plt.plot(eval_loss, label='Eval')\n",
    "plt.show()"
   ],
   "outputs": [
    {
     "output_type": "display_data",
     "data": {
      "text/plain": [
       "<Figure size 432x288 with 1 Axes>"
      ],
      "image/png": "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"
     },
     "metadata": {
      "needs_background": "light"
     }
    }
   ],
   "metadata": {
    "execution": {
     "iopub.execute_input": "2021-04-25T05:31:00.005770Z",
     "iopub.status.busy": "2021-04-25T05:31:00.004896Z",
     "iopub.status.idle": "2021-04-25T05:31:00.114984Z",
     "shell.execute_reply": "2021-04-25T05:31:00.115382Z"
    },
    "papermill": {
     "duration": 0.219709,
     "end_time": "2021-04-25T05:31:00.115524",
     "exception": false,
     "start_time": "2021-04-25T05:30:59.895815",
     "status": "completed"
    },
    "tags": []
   }
  },
  {
   "cell_type": "code",
   "execution_count": 18,
   "source": [
    "plt.plot(macro_f1)\n",
    "plt.show()"
   ],
   "outputs": [
    {
     "output_type": "display_data",
     "data": {
      "text/plain": [
       "<Figure size 432x288 with 1 Axes>"
      ],
      "image/png": "iVBORw0KGgoAAAANSUhEUgAAAXQAAAD4CAYAAAD8Zh1EAAAAOXRFWHRTb2Z0d2FyZQBNYXRwbG90bGliIHZlcnNpb24zLjQuMCwgaHR0cHM6Ly9tYXRwbG90bGliLm9yZy8+yak3AAAACXBIWXMAAAsTAAALEwEAmpwYAAAmtUlEQVR4nO3deXxU9b3/8dcnO9kJSSCBIGHfBY24orijtajdrnpvW9uqba9219Ze+2t7bfu72tZut96u2lpv61J/teV6UdGK4lJkERRZAoGwBMhK9nWW7++PGeKQhQSYZDLD+/l45JGZM9/M+eTM5J3vfM/3nGPOOUREJPrFRboAEREJDwW6iEiMUKCLiMQIBbqISIxQoIuIxIiESK04NzfXTZo0KVKrFxGJShs2bKh1zuX19VjEAn3SpEmsX78+UqsXEYlKZra3v8c05CIiEiMU6CIiMUKBLiISIxToIiIxQoEuIhIjBgx0M3vYzKrN7N1+Hjcz+5mZlZnZO2Z2RvjLFBGRgQymh/57YOkxHr8KmBb8ug34xcmXJSIix2vAeejOudVmNukYTa4F/uAC5+FdY2bZZlbgnDsUriIl9jnnMLOwPqfX52d3bStT89IBKK9rpXhMGnFxgfVUN3XgdzAuK+Wk1uOc4x+769h2qJnGtq7u5cV5aVwzv5DE+GP3mzq9Pt4oq6OioZ1l8wvJSk3sfqysuoUVmw/h9fkZnZbEpNw0kuLjqG3ppKK+nYKsFMZmppAQZ8ybkEVyQjzbK5uYMTaDhAHWO1iN7R5e2l5Fp8fPpbPGkpeRTFuXl6c2VJCSGM/cwixmFWQc9fo1tns4UN/OzHEZxMUZzjl21bTi8zvGZaWw/3Abo9OSGJ89qs91dnn97KlrJSMlgYKsvtsMlcZ2D395q4L61q6BG4c48vokx8eRlZrI5Nx0khPiMCPs7+3+hOPAovHA/pD7FcFlvQLdzG4j0Itn4sSJYVi1hJPP79hR1czMcRnH9Qbs8PjYU9fKjLF9/9zft1Xx7LuVeHx+vvG+2eRlJLP/cBsPvVZOcmIc/7zoNO7+yzscaGjnIyVFrNxahQFPfvpckhJOLJRe3FrFd/93K3vq2pian44BO6tbKDltNJfNHssLW6vYsLeehDjjX5dM4dYLJ1Pd3MlPXtzJdQsKuXTW2D6f1+93LH/7ILtqWkhNSuC6hYX87O87eWzte38CZnDkMgMPrNzBT29YyJmnje71XM45Vmyu5FvLt1Db0gnA95/dzoUz8shLT2ZXTQuvldUy2EsWpCTGkZqUwOHWLm44q4j7Pjj/uLZZT6t31PDw6+W8XlaLx+eCv9tmzjoth8qmDvYdbutuOz57FB6fn4Z2DxNzUtlb14rH58jPSGbSmDRqWjopr23ttY654zOZW5jFuVPGcOmssfzXqjKe21LJ3ro2fH5HUkIc371uLunJCTS1e1i2oJDUpAScczy1oaK7Br9zHGrooLnTy02LJrJkRt4x38Pr9hzm7f0NTMlPZ9GkHPbXt/GjlTtoaPOw7VATzZ1ejieDj/Ua5WUkc9msseSmJzG7IJOr5hUM/omPkw3mAhfBHvozzrm5fTz2DHCfc+614P2/A19zzh3zMNCSkhKnI0VHjl01LXz1qXfYsLeeaxcUcv8H55OSGD+on/23pzfzpzf3UZCVwv0fnM+F0987Krm8tpXLf/QKmaMSaen0cubE0Vw6K5/7nt1OnBkevx/nIDkhjil56Ww91MTYzGSqmjr56tIZ/OuSqUDgn8bLpTU89+4hXt1ZyyUz8/nOdXP7rLGysYMlP1zFxJxUPnTmBP626SAAl88ey+9e30Nju4fZBZlcPW8cu2paeXrjAZKCvdkun5+EOOPOK2fgd47JuenkZSTxyBt78fr9VDd1sn5vfXdoH/n+mYumcOviYsakJwOBsH65tIZv/88Waps7+fE/LeDcKWPISAn0vv1+x7eWb+HRNXuZOz6TL102nbyMZH73+h7e2ldPdVMnk3LTuHhGHp+6oJictCRqWjrZFwy67NQkJowexcGGdg63dtHW5ePl0mqaOrwY8JeNB/jBh+bz4ZKi7noG80/aOYfP73jmnUN8+clNFGSN4pr5BSydO45RSfE8u7mS596txAy++f7ZFGaNYm35YVaVVpOWnED2qET21LUxOS+NqfnprN5RQ11LF2nJ8Vw0I5/MlAQqGzsoykll3+E2Xi6tprSymfo2D0nxcXT5/CyZkcecwkym5KXzxLr9vFl+uLu+MWlJfGpxMVWNHTzyj72B3m/wsfyMFByOqqZObrmgmG9cM7vP3+/Xq3dz/3Pb8QejLzkhDr9zZKQkMmNsBuOyUrhlcTFzCrMG3F6hz1vb0sXeula8fkddSxd76lrx+PyUVjazekcNbR4fznHU+/pEmNkG51xJn4+FIdB/BbzsnHsseL8UWDLQkIsCPXIOt3bx3LuV3HBWEXFxRn1rF1f8ZDUen58rZo/lyfUVXDlnLL/66NHvmZ1VzRxoaGfJjPzuZVVNHSy+fxVnT86hor6dTo+Pl+5c0h20n350Pa/trGXVXUt4pbSGu556B4ArZo/lO9fNpaK+nd+9Xs5tF05m3vgsymtbKcpJ5fY/vsXqnTVcPCOfsuqW4B+HIzs1kTMmjual7dUU5YxiXGYKn75wCpfNHktlYwcOx49W7uBvmw7y969cRFFO6lG/Q2O7h5ZO71Ef9Tfuq+eZdw7R6fXxyfOLuSv4jy1UZkoCOWlJtHX5uPOKGXy4ZAL7D7fz29d2MzEnlVsWT+5zW1c1dXDTb9awqybQO11QlM05k8ewq6aFF7ZWceviYr62dGbYhkcgMNT00YfW8nZFAy/fuYTlbx/kz+sreOqz53b/Qwn1g+e3MzU/nesWjOdjD6/l1Z21AJw7eQy//XgJaclDe4YQv9+xcmsVK7dU8qEzJ3De1Nzuxzw+P8s3HaQwexTxccbPV5WxekcNALdcUMw975t11D8qj8/PF5/YxEvbqnnznkvJ7PH7rt5Rw8ceXsvV88bxf66Zze6aVl7YWgXA5y+dRk5a0pD9nl6fn6/8+W3+tukg9147h4+dO+mEnmeoA/19wB3A1cDZwM+cc4sGek4FeuTc9+x2fvnKLn5+00KumV/I7X96i5VbKvnb7RcwuzCTHz5fyoMvl/HKnRczcUwgEDu9Pi770SscbOjgmc9dQFFOKmXVLTz9VgWPrtnLy3deTEVDGzf95k3uunIGt188tfuP5yuXT+dzl04D4MFVZSTGG7dcMLl7LLsvBxra+dAv3iAlMZ4peelMzU/ngqm5nD05h8T4OF7YWsWja/aycV89iybl8NDNZ3Hh91d1fwS/7cLJ/NvVs05o+3R5/eyubaEgaxSbKxqpqG/jffML+gzDwWjp9PJGWS3bDjXzwrZKth1qJj7OuH3JVD5/6dQhGV/dW9fKZT96hfOn5vJGWR1dPj+fXTKFj5QUsWp7NdcvHM/otCQ27K3ng794g8yUBH744dO57dENXLegkNOLsrnhrImMShrcp7ThtGl/A3vrWll2emGf2+6digaW/fx1/n3ZHK6aO46khDiyUwNBfcsj69m0v5437r70hIfzTobP73hgZSkfP28SYzNPbN/NSQW6mT0GLAFygSrgW0AigHPulxbYoj8nMBOmDfjEQMMtoECPFOcci7+/ior6dqbmp/NPJUV8b8W27hCGwJDF+fe/xC2Li/n6VYFQ/M3q3XxvxTZGJcYzOS+Npg4P+w+3A3DtgkJ+esNCAG55ZB2vl9VxxyVT+eUruxiXmcLyOy4YsmD48hObeLWslr/dfj7n3fcSF03PY3RqIv9+7VyyRp1YAMeK7zyzlYdeKycjOYGzinN4rayW5IQ4mju8pCXF89klU3hjVx2bDzTS3OElOSGOjJQEXvvaJYMebhuplv38NQ7Ut9Pc4eXimXn86qMlHGxo54L7X+IzF03hq0tnRrrEE3asQB/MLJcbB3jcAbefYG1yEqqbO/iPFdv5wqXTmJSb1mebI2O1i4pzeP/phWza30BFfTuXzcrnxW3VfG/FNpbOGcenL3xvyGBcVgqXzsznz+srOHfyGLZXNvPgqjIump7H+08v5M4/v01+RjIPfPh0mjs8XB2yk+e7183jC49v5AfPlwbGhD9x1pD28uZPyOIvGw/w3LuVAHzp8uksKMoesvVFk89fMo01u+v4xPnFnDdlDJf96BUmjE7l366eyZ/e3McPV+4A4Bvvm8Vb++pZsbmSz59fHPVhDnDzeZP48pNvk5GSwKb9DQA8vnYfDrhxUexOyIjY6XPl5Hh9fj73p428WX6YxHjj+x86vc92r+ys4dE1e/nvN/dS09zJzupmkuLjeODDC/j84xsZm5nM966f12sM9+PnTWLl1ipu/t06AE4vyubfl83htDGpJCXEcU5xDvl9fGQcl5XCY7eew7PvVjKrIIMJo1N7tQmneROyAXh0zV6SEuKYXZA5pOuLJlmpifzv5xd333/5riVkjUokOSGexdPyWLmlkpd31PAv55zGFbPHkZqUwMfOPS2CFYfP9QvHc9akHJ57t5LvrdgW2G+0pZLzpozptV8llijQo9QDL+zgzfLDTMtPZ/nbB7nn6tlkpCR0j0v7/Y64OOPh18rJz0hmVkEm9z6zFYDLZo0lKzWRRz7Z/66O86fm8twXF9Pa6aMgK4XCkJ2Iy04vPGZtcXHG++YP3dSsUHMKM4mPM8prWzljYnZExkWjRX7G0f+Ar5gzjivmjANg4phUfvjhvjsF0cjMKMpJZVbwH/za8sPsqGrh/fOP/d6Ndgr0KPTC1ip+8fIubjp7Ijctmsg1//kaX3hiIxv21PPhkiLOnzqGr/z5bablp7NuTz13XTmDT184mbV7DrOrppWLpvV5sZNeZo4b+b3dlMR4po/NYNuhJs6Y2Huut5zaZhZkAPDY2n0AfR4PEEsU6FHmYEM7X3lyE3PHZ/LNa2aTkhjPgqJsXi6tYcbYDB5+vZyHXy9nan465bVtpCcncOOiiSTEx3HelFzOm5I78EqizPzxWWw71MRCBbr0kJueTG56Mqt31hBngaHDWKZAjwIrt1Ty2Np93H3VLB5YWYrH5/ivm87s3nn1439awJ66VpZMz+Ovmw6wuaKJO6+cTpwZzR3eIZ1bOxKcMyWHpzceoGSSAl16m1WQwas7O5ldmDnkc+ojLbZ/uxjw7eVb+P0bezALjAO2dvn42tKZ3fPDAYpz0ygOznK5fuEErl/43s/HwoyFgVy3YDznT8ntcyetyMxxGby6szbmh1tA50Mf0bYcbOT3b+zhxkVFvPClC8kalcjMcRl86oLiSJc2opiZwlz6dWTH6KkQ6OqhR1iHx8feujZmjMvo9diPX9hBZkoCd181i6xRibz4lYtwDs3kEDkOl8zM51/OmcglM/MHbhzllAwR9vDr5Sz96Wre2nf0uUOe31LJi9uquXXx5O4jHlOTEmJ+DFAk3LJTk/judfNO+NQN0USBHiFHTrmwrvwwzsE9T7+L1+cH4JE39vCZ/97A3PGZfELDKyIySAr0Ybb/cBsffehNLvzBKjq9Pjbub2BiTirbDjXx2Lr9OBc4ec+5k8fw50+fR7p65CIySAr0YdTS6eX9P3+Nf+yqY//hdv705j4a2jx8dskUJuel8UppNYcaO2jq8HJV8PzTIiKDpUAfRq+U1tDQ5uE3Hy8hPTmB/3ypDIAzJo5m3vgsthxsorSyGYAZUXCUpoiMLAr0YfTitipGpyayeGoul8zM53BrF+nJCUzNT2dOYSaHGjtYs7sOgBlje896ERE5FgX6MPH6/Ly0vZqLZ+aTEB/HVXMDJ0U6vSiL+DhjbvByV3/ddIBxmSlHXShYRGQwFOjDZN2eehrbPVwxO3Dx4Ytm5JGdmth9bpXZhYEhlqqmzj7npIuIDERTKIbJS9urSIqPY3HwTIepSQm8cufFpCUHdnxmpyYxPnsUBxramalAF5EToB56mPn9jh1VzbxcWt09rxwCPfQFRdlHHRiUlZp41IUl5gR76eqhi8iJUKCH2df/spkrfryam3+3jsfW7QcCh/dvOdjIGQOcS2JOcBxdgS4iJ0JDLmHU0NbF0xsPcM38ArZXNvOXtyr46DmnsflAIx6fG/DkQB8qmUCXzxcVF5YQkZFHPfQwWrG5ki6fn89cNIUPnTmBjfsaKK9tZcPewHlaBgr08dmjuOvKmcQHLyMnInI8FOhh9NeNB7rnlF+7oBCzwLL1e+qZnJsW8xeaEJHIUqCHyf7Dbazdc5jrF47HzCjIGsX5U3L57au7eb2sdsDxcxGRk6VAD5NH3thDfJxx/cLx3cv+4wPzuHB6Hu0eHxdOH9yFmUVETpR2ioZBS6eXJ9bt5+p5BRRmj+peXpSTyi/+5UyaOjxk6KyJIjLElDJh8OS6/TR3evu9NFzmKXBifRGJPA25hMGKzYeYNz6LBUXZkS5FRE5hCvQw2F/fpsP1RSTiFOgnqcvrp7q5k/GjRw3cWERkCCnQj1NZdTMffehN9tW1AXCosR3nAgcFiYhEkgL9OK3eUcurO2u5+XdrqW/toqK+HYAJo1MjXJmInOoGFehmttTMSs2szMzu7uPx08zs72b2jpm9bGYTwl/qyLC3rpWkhDgqGtr5zjNbOdAd6Oqhi0hkDRjoZhYPPAhcBcwGbjSz2T2a/RD4g3NuPnAv8B/hLnSkKK9rY/rYdJbOGcea3XVUNLQTZzAuKyXSpYnIKW4wPfRFQJlzbrdzrgt4HLi2R5vZwEvB26v6eDxm7K1r5bQxaZxelM3Bxg427qtnXGYKifEavRKRyBpMCo0H9ofcrwguC/U28IHg7euBDDMb0/OJzOw2M1tvZutrampOpN6I8vj8VNS3UzwmrXvO+Ru76jTDRURGhHB1K+8ELjKzjcBFwAHA17ORc+7XzrkS51xJXl70ndukor4dn99x2phU5hRmkhBn+PxOM1xEZEQYTKAfAIpC7k8ILuvmnDvonPuAc24hcE9wWUO4ihwp9tS1AlCcm0ZKYjwzCwIHE6mHLiIjwWACfR0wzcyKzSwJuAFYHtrAzHLN7MhzfR14OLxljgx7agOBPik3DYDTJ2QDmrIoIiPDgIHunPMCdwDPA9uAJ51zW8zsXjNbFmy2BCg1sx3AWOB7Q1RvRO2tayM9OYExwQtVnB4cR9eQi4iMBIM626JzbgWwoseyb4bcfgp4KryljRw7qpr54fOl7KppYVJuKmaBS8RdNXcce2pbWVScE+EKRUR0pOigvLC1ipVbq9hV08qUvPTu5RkpiXx16UxSEuMjWJ2ISIDOhz4I+w+3MSYtiZ/fdAbFwfFzEZGRRj30fnR6fd07QfcdbqMoJ5Vzp4zREaEiMmIp0PvxxzX7uOInq2ls97C/vo2JOZrJIiIjmwK9H1sONtHl9fPugUYONnRQlKOZLCIysinQ+7GrpgWAF7dV4fM79dBFZMRToPfBOcfuYKCv3FIFQJEOHhKREU6zXEJ0en00tnkwM5o6vAAcaAic77xIPXQRGeHUQw/x8Gt7uPSBV3inogGA2QWZAMTHGQWa3SIiI5wCPcTeulaaO708/Ho5ANecXgAEDu1P0PnORWSEU0qFqG3pBOD1sjpSEuO4dOZYAM1wEZGooEAPUdPS1X17cm46U/LSGJUYz2ljdHSoiIx82ikaoq6lk9z0JGpbupiSn05CfByPfHKReugiEhXUQw9yzlHb0snV8wrIz0jmzInZACwqzqEgS4EuIiOfeuhBbV0+Ojx+CrNH8drXLiEx3iJdkojIcVGgBx3ZIZqbnkxSgj64iEj0UXIFHQn0MelJEa5EROTEKNCDaoMzXPLSkyNciYjIiVGgB4UOuYiIRCMFelBdsIeek6YhFxGJTgr0oNqWTrJGJWqHqIhELaVXUG1Lp3aIikhUO+WnLXp8fpraPdS2dGn8XESi2ikf6F96YhOvlNaQnBjP2cU5kS5HROSEndKB/ta+ep555xAAzZ1eDbmISFQ7ZcfQnXPc/+x2ctOTuOvKGYCmLIpIdDtle+hbDjbxZvlhvvX+2Xz83EnExxlXzy2IdFkiIifslA30lVsqiTNYdnohcXHGZy6aEumSREROyik75PLclkrOmpTDGA2ziEiMOCUDvby2lR1VLVw5Z1ykSxERCZtTJtD/vq2Kh14rxznH/7x9EIAr5oyNcFUiIuEzqDF0M1sK/BSIB37rnLuvx+MTgUeA7GCbu51zK8Jb6sn5yYs72XygkRe2VrK2/DCLp+UyYXRqpMsSEQmbAXvoZhYPPAhcBcwGbjSz2T2afQN40jm3ELgB+K9wF3oyOr0+tlc2UZQzijW7D3PJzHx+9dEzI12WiEhYDaaHvggoc87tBjCzx4Frga0hbRyQGbydBRwMZ5Enq7SyGY/P8fWrZjEtP53JeenEx+kScyISWwYT6OOB/SH3K4Cze7T5NrDSzD4HpAGX9fVEZnYbcBvAxIkTj7fWE/ZORSMA88ZnUZSjYRYRiU3h2il6I/B759wE4GrgUTPr9dzOuV8750qccyV5eXlhWvXANlc0Mjo1kQmjRw3bOkVEhttgAv0AUBRyf0JwWahPAU8COOf+AaQAueEoMBw2H2hk7vgszDTMIiKxazCBvg6YZmbFZpZEYKfn8h5t9gGXApjZLAKBXhPOQk9Uh8fHjqpm5k/IinQpIiJDasBAd855gTuA54FtBGazbDGze81sWbDZV4Bbzext4DHgZuecG6qij8eWg014/Y5547MjXYqIyJAa1Dz04JzyFT2WfTPk9lbg/PCWFh5ryw8DUDJpdIQrEREZWjF3pGhVUwf1rV3d99fsrmNafrpOjSsiMS/mAv3WP6zny09uAsDr87N+z2HOnqwrEYlI7Iup0+f6/I7tlc3goK3Ly46qFlq7fJwzeUykSxMRGXIxFegHG9rp8voB+MeuOsqqWwBYpGuFisgpIKYCfVdNS/ftVaXVbDvUzOS8NPIzUiJYlYjI8IipQC+vbQVgQVE2j63dj8/v+L/Xz4twVSIiwyOmdorurmklIyWBD545AZ/f8b75Bdy4qGjgHxQRiQEx1UPfXdvC5Lx0rltQSG1zJ7csLtbh/iJyyoi5HvqU3DQyUhL50uXTyUhJjHRJIiLDJmYCva3Ly6HGDopz0yJdiohIRMRMoB/ZITo5Lz3ClYiIREbMBPo/dtUBMDVfgS4ip6aYCPTqpg5++uJOLpiay/SxCnQROTXFRKDf9+x2Or1+7r12jma1iMgpKyYC/dWyWq6ZX6DxcxE5pcVEoDe2e8jL0OlxReTUFvWB3uHx0eX1kzlKc85F5NQW9YHe2O4BIEuBLiKnOAW6iEiMUKCLiMSI6A/0NgW6iAjEQqCrhy4iAijQRURiRswEuqYtisipLiYCPSM5gfg4HfIvIqe2qA/0pnaPeuciIsRAoDcq0EVEgBgJ9KxRMXVpVBGRExL1gd7U4dEMFxERYiDQAz10BbqIiAJdRCRGDCrQzWypmZWaWZmZ3d3H4z82s03Brx1m1hD2SvvQ6fXR4fEr0EVEgAH3JppZPPAgcDlQAawzs+XOua1H2jjnvhTS/nPAwiGotRcdJSoi8p7B9NAXAWXOud3OuS7gceDaY7S/EXgsHMUNpElHiYqIdBtMoI8H9ofcrwgu68XMTgOKgZf6efw2M1tvZutramqOt9Ze1EMXEXlPuHeK3gA85Zzz9fWgc+7XzrkS51xJXl7eSa9MgS4i8p7BBPoBoCjk/oTgsr7cwDANt4ACXUQk1GACfR0wzcyKzSyJQGgv79nIzGYCo4F/hLfE/h1s6AAgLyN5uFYpIjJiDRjozjkvcAfwPLANeNI5t8XM7jWzZSFNbwAed865oSm1t9LKZsZnjyIjRT10EZFBnQTFObcCWNFj2Td73P92+MoanNLKZmaMyxju1YqIjEhRe6Rol9fPrpoWZirQRUSAKA703bUteP1OPXQRkaCoDfTSymYAZo7LjHAlIiIjQ9QG+vbKZhLjjcl5aZEuRURkRIjaQC+tbGZKXjqJ8VH7K4iIhFXUpqFmuIiIHC1qA72p3UNuug4oEhE5ImoDvcvn13CLiEiIqE1Ej89PUrxFugwRkREjKgPd53f4Heqhi4iEiMpE9Pj8ACQmRGX5IiJDIioTsSsY6AlxGnIRETkiKgPd4w0EepJ66CIi3aIyET2+wBl6NYYuIvKeqEzE7jF0BbqISLeoTMSu7kDXGLqIyBFRGehHeuhJ6qGLiHSLykT0eDWGLiLSU1QmYpfmoYuI9BKViejRGLqISC9RGeje4LRFjaGLiLwnKhNR0xZFRHqLykTsUqCLiPQSlYmoMXQRkd6iPNCjsnwRkSERlYnYPQ9d0xZFRLpFZSLq0H8Rkd6iMtB16L+ISG9RmYgaQxcR6S0qE1HnQxcR6S0qE7HLqzF0EZGeBhXoZrbUzErNrMzM7u6nzUfMbKuZbTGzP4W3zKN5fH4S4w0zBbqIyBEJAzUws3jgQeByoAJYZ2bLnXNbQ9pMA74OnO+cqzez/KEqGI4EelR+uBARGTKDScVFQJlzbrdzrgt4HLi2R5tbgQedc/UAzrnq8JZ5NI/PKdBFRHoYTCqOB/aH3K8ILgs1HZhuZq+b2RozW9rXE5nZbWa23szW19TUnFjFqIcuItKXcKViAjANWALcCPzGzLJ7NnLO/do5V+KcK8nLyzvhlR0ZQxcRkfcMJtAPAEUh9ycEl4WqAJY75zzOuXJgB4GAHxIachER6W0wqbgOmGZmxWaWBNwALO/R5q8EeueYWS6BIZjd4SvzaF3qoYuI9DJgoDvnvMAdwPPANuBJ59wWM7vXzJYFmz0P1JnZVmAVcJdzrm6oivZ4NYYuItLTgNMWAZxzK4AVPZZ9M+S2A74c/BpyHp+fJJ1pUUTkKFGZihpDFxHpLSpTUWPoIiK9RWWgax66iEhvUZmKHp9f50IXEekhKlPR49UYuohIT1GZih6fX9cTFRHpISpTUTtFRUR6i8pA9/ociXFRWbqIyJCJylQMDLmohy4iEioqA71L0xZFRHqJylTUtEURkd6iMhV16L+ISG9Rl4o+v8PnV6CLiPQUdano8fkBtFNURKSHqA10jaGLiBwt6lLR43MAGnIREekh6lKxe8hFgS4icpSoS8Uu75FA1xi6iEioqAv07jF0nZxLROQoUZeKR8bQE3QuFxGRo0RdKr43hq4hFxGRUNEb6BpyERE5StSl4pEhF81DFxE5WtSloqYtioj0LepSsUtj6CIifYq6QPd41UMXEelL1KVi9xi6doqKiBwl6lJRY+giIn2LulTUGLqISN+iLtB1+lwRkb4NKhXNbKmZlZpZmZnd3cfjN5tZjZltCn7dEv5SA7RTVESkbwkDNTCzeOBB4HKgAlhnZsudc1t7NH3COXfHENR4lO5zuWjIRUTkKIPp5i4Cypxzu51zXcDjwLVDW1b/JuWmcfW8cZrlIiLSw4A9dGA8sD/kfgVwdh/tPmhmFwI7gC855/b30eakXT57LJfPHjsUTy0iEtXC1c39H2CSc24+8ALwSF+NzOw2M1tvZutramrCtGoREYHBBfoBoCjk/oTgsm7OuTrnXGfw7m+BM/t6Iufcr51zJc65kry8vBOpV0RE+jGYQF8HTDOzYjNLAm4Aloc2MLOCkLvLgG3hK1FERAZjwDF055zXzO4AngfigYedc1vM7F5gvXNuOfB5M1sGeIHDwM1DWLOIiPTBnHMRWXFJSYlbv359RNYtIhKtzGyDc66kr8c0909EJEYo0EVEYoQCXUQkRkRsDN3MaoC9J/jjuUBtGMsJp5Fam+o6Pqrr+I3U2mKtrtOcc33O+45YoJ8MM1vf306BSBuptamu46O6jt9Ire1UqktDLiIiMUKBLiISI6I10H8d6QKOYaTWprqOj+o6fiO1tlOmrqgcQxcRkd6itYcuIiI9KNBFRGJE1AX6QNc3HcY6isxslZltNbMtZvaF4PJvm9mBkOurXh2B2vaY2ebg+tcHl+WY2QtmtjP4ffQw1zQjZJtsMrMmM/tipLaXmT1sZtVm9m7Isj63kQX8LPiee8fMzhjmun5gZtuD637azLKDyyeZWXvItvvlMNfV72tnZl8Pbq9SM7tyqOo6Rm1PhNS1x8w2BZcPyzY7Rj4M7XvMORc1XwTO9rgLmAwkAW8DsyNUSwFwRvB2BoErNc0Gvg3cGeHttAfI7bHs+8Ddwdt3A/dH+HWsBE6L1PYCLgTOAN4daBsBVwPPAgacA7w5zHVdASQEb98fUtek0HYR2F59vnbBv4O3gWSgOPg3Gz+ctfV4/AHgm8O5zY6RD0P6Hou2HvqIub6pc+6Qc+6t4O1mAueAHx+JWgbpWt67ktQjwHWRK4VLgV3OuRM9UvikOedWEzjVc6j+ttG1wB9cwBogu8c1AIa0LufcSuecN3h3DYGLzAyrfrZXf64FHnfOdTrnyoEyAn+7w16bmRnwEeCxoVp/PzX1lw9D+h6LtkDv6/qmEQ9RM5sELATeDC66I/ix6eHhHtoIcsBKM9tgZrcFl411zh0K3q4EInlh1hs4+g8s0tvriP620Uh6332SQE/uiGIz22hmr5jZ4gjU09drN5K212Kgyjm3M2TZsG6zHvkwpO+xaAv0EcfM0oH/B3zROdcE/AKYAiwADhH4uDfcLnDOnQFcBdxugYt3d3OBz3gRma9qgateLQP+HFw0ErZXL5HcRv0xs3sIXETmj8FFh4CJzrmFwJeBP5lZ5jCWNCJfux5u5OjOw7Busz7yodtQvMeiLdAHvL7pcDKzRAIv1h+dc38BcM5VOed8zjk/8BuG8KNmf5xzB4Lfq4GngzVUHfkIF/xePdx1BV0FvOWcqwrWGPHtFaK/bRTx952Z3QxcA/xzMAgIDmnUBW9vIDBWPX24ajrGaxfx7QVgZgnAB4Anjiwbzm3WVz4wxO+xaAv0Aa9vOlyCY3MPAduccz8KWR467nU98G7Pnx3iutLMLOPIbQI71N4lsJ0+Hmz2ceBvw1lXiKN6TJHeXj30t42WAx8LzkQ4B2gM+dg85MxsKfBVYJlzri1keZ6ZxQdvTwamAbuHsa7+XrvlwA1mlmxmxcG61g5XXSEuA7Y75yqOLBiubdZfPjDU77Gh3tsb7i8Ce4N3EPjPek8E67iAwMeld4BNwa+rgUeBzcHly4GCYa5rMoEZBm8DW45sI2AM8HdgJ/AikBOBbZYG1AFZIcsisr0I/FM5BHgIjFd+qr9tRGDmwYPB99xmoGSY6yojML565H32y2DbDwZf403AW8D7h7mufl874J7g9ioFrhru1zK4/PfAZ3q0HZZtdox8GNL3mA79FxGJEdE25CIiIv1QoIuIxAgFuohIjFCgi4jECAW6iEiMUKCLiMQIBbqISIz4/xEJYakIpfpWAAAAAElFTkSuQmCC"
     },
     "metadata": {
      "needs_background": "light"
     }
    }
   ],
   "metadata": {
    "execution": {
     "iopub.execute_input": "2021-04-25T05:31:00.331482Z",
     "iopub.status.busy": "2021-04-25T05:31:00.330618Z",
     "iopub.status.idle": "2021-04-25T05:31:00.408461Z",
     "shell.execute_reply": "2021-04-25T05:31:00.408051Z"
    },
    "papermill": {
     "duration": 0.210467,
     "end_time": "2021-04-25T05:31:00.408574",
     "exception": false,
     "start_time": "2021-04-25T05:31:00.198107",
     "status": "completed"
    },
    "tags": []
   }
  },
  {
   "cell_type": "code",
   "execution_count": 19,
   "source": [
    "def inference(model):\n",
    "    model.eval()\n",
    "    with torch.no_grad():\n",
    "        predictions = []\n",
    "        for img1, img2 in tqdm(test_dataloader):\n",
    "            img1 = img1.to(device)\n",
    "            img2 = img2.to(device)\n",
    "            out = model(img1, img2)\n",
    "            _, pred = torch.max(out, 1)\n",
    "#             print(pred.cpu().numpy())\n",
    "            predictions.append(out.detach().cpu().numpy())\n",
    "\n",
    "    return predictions\n",
    "        \n",
    "        "
   ],
   "outputs": [],
   "metadata": {
    "execution": {
     "iopub.execute_input": "2021-04-25T05:31:00.582942Z",
     "iopub.status.busy": "2021-04-25T05:31:00.582349Z",
     "iopub.status.idle": "2021-04-25T05:31:00.586130Z",
     "shell.execute_reply": "2021-04-25T05:31:00.585514Z"
    },
    "papermill": {
     "duration": 0.094317,
     "end_time": "2021-04-25T05:31:00.586252",
     "exception": false,
     "start_time": "2021-04-25T05:31:00.491935",
     "status": "completed"
    },
    "tags": []
   }
  },
  {
   "cell_type": "code",
   "execution_count": 20,
   "source": [
    "predictions = inference(model)"
   ],
   "outputs": [
    {
     "output_type": "display_data",
     "data": {
      "text/plain": [
       "  0%|          | 0/40 [00:00<?, ?it/s]"
      ],
      "application/vnd.jupyter.widget-view+json": {
       "model_id": "5790acf2759b4ee4970e4c72c8b0f502",
       "version_major": 2,
       "version_minor": 0
      }
     },
     "metadata": {}
    }
   ],
   "metadata": {
    "execution": {
     "iopub.execute_input": "2021-04-25T05:31:00.779852Z",
     "iopub.status.busy": "2021-04-25T05:31:00.779021Z",
     "iopub.status.idle": "2021-04-25T05:32:36.722657Z",
     "shell.execute_reply": "2021-04-25T05:32:36.722242Z"
    },
    "papermill": {
     "duration": 96.053287,
     "end_time": "2021-04-25T05:32:36.722801",
     "exception": false,
     "start_time": "2021-04-25T05:31:00.669514",
     "status": "completed"
    },
    "tags": []
   }
  },
  {
   "cell_type": "code",
   "execution_count": 21,
   "source": [
    "test_pred = np.concatenate(predictions)\n",
    "test_pred = test_pred.reshape(5000,)\n",
    "test_csv['Predicted'] = test_pred\n",
    "test_csv.to_csv('Predictions_Sigmoid_95.csv', index=False)\n",
    "\n",
    "test_pred[test_pred>=0.95] = 1\n",
    "test_pred[test_pred<0.95] = 0"
   ],
   "outputs": [],
   "metadata": {
    "execution": {
     "iopub.execute_input": "2021-04-25T05:32:36.904508Z",
     "iopub.status.busy": "2021-04-25T05:32:36.903629Z",
     "iopub.status.idle": "2021-04-25T05:32:37.076346Z",
     "shell.execute_reply": "2021-04-25T05:32:37.075883Z"
    },
    "papermill": {
     "duration": 0.265717,
     "end_time": "2021-04-25T05:32:37.076468",
     "exception": false,
     "start_time": "2021-04-25T05:32:36.810751",
     "status": "completed"
    },
    "tags": []
   }
  },
  {
   "cell_type": "code",
   "execution_count": 22,
   "source": [
    "\n",
    "test_pred.shape"
   ],
   "outputs": [
    {
     "output_type": "execute_result",
     "data": {
      "text/plain": [
       "(5000,)"
      ]
     },
     "metadata": {},
     "execution_count": 22
    }
   ],
   "metadata": {
    "execution": {
     "iopub.execute_input": "2021-04-25T05:32:37.256093Z",
     "iopub.status.busy": "2021-04-25T05:32:37.255421Z",
     "iopub.status.idle": "2021-04-25T05:32:37.258776Z",
     "shell.execute_reply": "2021-04-25T05:32:37.259243Z"
    },
    "papermill": {
     "duration": 0.095359,
     "end_time": "2021-04-25T05:32:37.259373",
     "exception": false,
     "start_time": "2021-04-25T05:32:37.164014",
     "status": "completed"
    },
    "tags": []
   }
  },
  {
   "cell_type": "code",
   "execution_count": 23,
   "source": [
    "test_pred = test_pred.astype(np.int64)\n",
    "type(test_pred[0])"
   ],
   "outputs": [
    {
     "output_type": "execute_result",
     "data": {
      "text/plain": [
       "numpy.int64"
      ]
     },
     "metadata": {},
     "execution_count": 23
    }
   ],
   "metadata": {
    "execution": {
     "iopub.execute_input": "2021-04-25T05:32:37.434213Z",
     "iopub.status.busy": "2021-04-25T05:32:37.433479Z",
     "iopub.status.idle": "2021-04-25T05:32:37.436854Z",
     "shell.execute_reply": "2021-04-25T05:32:37.437257Z"
    },
    "papermill": {
     "duration": 0.092185,
     "end_time": "2021-04-25T05:32:37.437372",
     "exception": false,
     "start_time": "2021-04-25T05:32:37.345187",
     "status": "completed"
    },
    "tags": []
   }
  },
  {
   "cell_type": "code",
   "execution_count": 24,
   "source": [
    "test_csv['Predicted'] = test_pred"
   ],
   "outputs": [],
   "metadata": {
    "execution": {
     "iopub.execute_input": "2021-04-25T05:32:37.610393Z",
     "iopub.status.busy": "2021-04-25T05:32:37.609286Z",
     "iopub.status.idle": "2021-04-25T05:32:37.612168Z",
     "shell.execute_reply": "2021-04-25T05:32:37.611764Z"
    },
    "papermill": {
     "duration": 0.090858,
     "end_time": "2021-04-25T05:32:37.612271",
     "exception": false,
     "start_time": "2021-04-25T05:32:37.521413",
     "status": "completed"
    },
    "tags": []
   }
  },
  {
   "cell_type": "code",
   "execution_count": 25,
   "source": [
    "test_csv.to_csv('Submission_3.csv', index=False)"
   ],
   "outputs": [],
   "metadata": {
    "execution": {
     "iopub.execute_input": "2021-04-25T05:32:37.797390Z",
     "iopub.status.busy": "2021-04-25T05:32:37.785230Z",
     "iopub.status.idle": "2021-04-25T05:32:37.809447Z",
     "shell.execute_reply": "2021-04-25T05:32:37.809029Z"
    },
    "papermill": {
     "duration": 0.112535,
     "end_time": "2021-04-25T05:32:37.809545",
     "exception": false,
     "start_time": "2021-04-25T05:32:37.697010",
     "status": "completed"
    },
    "tags": []
   }
  },
  {
   "cell_type": "code",
   "execution_count": 26,
   "source": [
    "import gc\n",
    "gc.collect()"
   ],
   "outputs": [
    {
     "output_type": "execute_result",
     "data": {
      "text/plain": [
       "6774"
      ]
     },
     "metadata": {},
     "execution_count": 26
    }
   ],
   "metadata": {
    "execution": {
     "iopub.execute_input": "2021-04-25T05:32:38.101156Z",
     "iopub.status.busy": "2021-04-25T05:32:38.100378Z",
     "iopub.status.idle": "2021-04-25T05:32:38.103856Z",
     "shell.execute_reply": "2021-04-25T05:32:38.104255Z"
    },
    "papermill": {
     "duration": 0.210416,
     "end_time": "2021-04-25T05:32:38.104394",
     "exception": false,
     "start_time": "2021-04-25T05:32:37.893978",
     "status": "completed"
    },
    "tags": []
   }
  },
  {
   "cell_type": "code",
   "execution_count": null,
   "source": [],
   "outputs": [],
   "metadata": {
    "papermill": {
     "duration": 0.084832,
     "end_time": "2021-04-25T05:32:38.274903",
     "exception": false,
     "start_time": "2021-04-25T05:32:38.190071",
     "status": "completed"
    },
    "tags": []
   }
  }
 ],
 "metadata": {
  "kernelspec": {
   "display_name": "Python 3",
   "language": "python",
   "name": "python3"
  },
  "language_info": {
   "codemirror_mode": {
    "name": "ipython",
    "version": 3
   },
   "file_extension": ".py",
   "mimetype": "text/x-python",
   "name": "python",
   "nbconvert_exporter": "python",
   "pygments_lexer": "ipython3",
   "version": "3.7.9"
  },
  "papermill": {
   "default_parameters": {},
   "duration": 7563.676156,
   "end_time": "2021-04-25T05:32:40.358899",
   "environment_variables": {},
   "exception": null,
   "input_path": "__notebook__.ipynb",
   "output_path": "__notebook__.ipynb",
   "parameters": {},
   "start_time": "2021-04-25T03:26:36.682743",
   "version": "2.3.2"
  },
  "widgets": {
   "application/vnd.jupyter.widget-state+json": {
    "state": {
     "00d48f4d558640b8837ba4d88dfadfed": {
      "model_module": "@jupyter-widgets/controls",
      "model_module_version": "1.5.0",
      "model_name": "HTMLModel",
      "state": {
       "_dom_classes": [],
       "_model_module": "@jupyter-widgets/controls",
       "_model_module_version": "1.5.0",
       "_model_name": "HTMLModel",
       "_view_count": null,
       "_view_module": "@jupyter-widgets/controls",
       "_view_module_version": "1.5.0",
       "_view_name": "HTMLView",
       "description": "",
       "description_tooltip": null,
       "layout": "IPY_MODEL_466a32126d694ea787b57b1cf248529a",
       "placeholder": "​",
       "style": "IPY_MODEL_54e62a3d95b34329b6ea3ebf8197f1ac",
       "value": "100%"
      }
     },
     "036cd4f8beb943fbabcb77b53b64970c": {
      "model_module": "@jupyter-widgets/base",
      "model_module_version": "1.2.0",
      "model_name": "LayoutModel",
      "state": {
       "_model_module": "@jupyter-widgets/base",
       "_model_module_version": "1.2.0",
       "_model_name": "LayoutModel",
       "_view_count": null,
       "_view_module": "@jupyter-widgets/base",
       "_view_module_version": "1.2.0",
       "_view_name": "LayoutView",
       "align_content": null,
       "align_items": null,
       "align_self": null,
       "border": null,
       "bottom": null,
       "display": null,
       "flex": null,
       "flex_flow": null,
       "grid_area": null,
       "grid_auto_columns": null,
       "grid_auto_flow": null,
       "grid_auto_rows": null,
       "grid_column": null,
       "grid_gap": null,
       "grid_row": null,
       "grid_template_areas": null,
       "grid_template_columns": null,
       "grid_template_rows": null,
       "height": null,
       "justify_content": null,
       "justify_items": null,
       "left": null,
       "margin": null,
       "max_height": null,
       "max_width": null,
       "min_height": null,
       "min_width": null,
       "object_fit": null,
       "object_position": null,
       "order": null,
       "overflow": null,
       "overflow_x": null,
       "overflow_y": null,
       "padding": null,
       "right": null,
       "top": null,
       "visibility": null,
       "width": null
      }
     },
     "0fa199722eee406bab632b3c251d9091": {
      "model_module": "@jupyter-widgets/controls",
      "model_module_version": "1.5.0",
      "model_name": "HBoxModel",
      "state": {
       "_dom_classes": [],
       "_model_module": "@jupyter-widgets/controls",
       "_model_module_version": "1.5.0",
       "_model_name": "HBoxModel",
       "_view_count": null,
       "_view_module": "@jupyter-widgets/controls",
       "_view_module_version": "1.5.0",
       "_view_name": "HBoxView",
       "box_style": "",
       "children": [
        "IPY_MODEL_c37e11f2c3504524b72783cd43c52b1a",
        "IPY_MODEL_d98db2f568e24c81b7581b6db3886e35",
        "IPY_MODEL_a6cf1a1bc0d54e6da4ec7a1f67fc3e4c"
       ],
       "layout": "IPY_MODEL_65b01f87302f4de1a7464e3e59ad8001"
      }
     },
     "0fbfad3b528344e09ff32296e7ddf085": {
      "model_module": "@jupyter-widgets/controls",
      "model_module_version": "1.5.0",
      "model_name": "FloatProgressModel",
      "state": {
       "_dom_classes": [],
       "_model_module": "@jupyter-widgets/controls",
       "_model_module_version": "1.5.0",
       "_model_name": "FloatProgressModel",
       "_view_count": null,
       "_view_module": "@jupyter-widgets/controls",
       "_view_module_version": "1.5.0",
       "_view_name": "ProgressView",
       "bar_style": "success",
       "description": "",
       "description_tooltip": null,
       "layout": "IPY_MODEL_23f3952a9e4e4f0e9d290cb8ee4a4789",
       "max": 200,
       "min": 0,
       "orientation": "horizontal",
       "style": "IPY_MODEL_e74e7b5acca14fee9e95cf603688c7dc",
       "value": 200
      }
     },
     "11fb709a0f874447a302682ea2d72e33": {
      "model_module": "@jupyter-widgets/controls",
      "model_module_version": "1.5.0",
      "model_name": "DescriptionStyleModel",
      "state": {
       "_model_module": "@jupyter-widgets/controls",
       "_model_module_version": "1.5.0",
       "_model_name": "DescriptionStyleModel",
       "_view_count": null,
       "_view_module": "@jupyter-widgets/base",
       "_view_module_version": "1.2.0",
       "_view_name": "StyleView",
       "description_width": ""
      }
     },
     "18bdc79a229d43a5bf762a8fff0bd8cc": {
      "model_module": "@jupyter-widgets/controls",
      "model_module_version": "1.5.0",
      "model_name": "HBoxModel",
      "state": {
       "_dom_classes": [],
       "_model_module": "@jupyter-widgets/controls",
       "_model_module_version": "1.5.0",
       "_model_name": "HBoxModel",
       "_view_count": null,
       "_view_module": "@jupyter-widgets/controls",
       "_view_module_version": "1.5.0",
       "_view_name": "HBoxView",
       "box_style": "",
       "children": [
        "IPY_MODEL_00d48f4d558640b8837ba4d88dfadfed",
        "IPY_MODEL_0fbfad3b528344e09ff32296e7ddf085",
        "IPY_MODEL_5e9895d067794abfb40f2c2598d3e2b7"
       ],
       "layout": "IPY_MODEL_baa66b7d957944519367487b6f17d9b1"
      }
     },
     "1b68c730357a45b99775ef0344702627": {
      "model_module": "@jupyter-widgets/base",
      "model_module_version": "1.2.0",
      "model_name": "LayoutModel",
      "state": {
       "_model_module": "@jupyter-widgets/base",
       "_model_module_version": "1.2.0",
       "_model_name": "LayoutModel",
       "_view_count": null,
       "_view_module": "@jupyter-widgets/base",
       "_view_module_version": "1.2.0",
       "_view_name": "LayoutView",
       "align_content": null,
       "align_items": null,
       "align_self": null,
       "border": null,
       "bottom": null,
       "display": null,
       "flex": null,
       "flex_flow": null,
       "grid_area": null,
       "grid_auto_columns": null,
       "grid_auto_flow": null,
       "grid_auto_rows": null,
       "grid_column": null,
       "grid_gap": null,
       "grid_row": null,
       "grid_template_areas": null,
       "grid_template_columns": null,
       "grid_template_rows": null,
       "height": null,
       "justify_content": null,
       "justify_items": null,
       "left": null,
       "margin": null,
       "max_height": null,
       "max_width": null,
       "min_height": null,
       "min_width": null,
       "object_fit": null,
       "object_position": null,
       "order": null,
       "overflow": null,
       "overflow_x": null,
       "overflow_y": null,
       "padding": null,
       "right": null,
       "top": null,
       "visibility": null,
       "width": null
      }
     },
     "1d3a65b98ed14ed5ba3909cfa45c3190": {
      "model_module": "@jupyter-widgets/controls",
      "model_module_version": "1.5.0",
      "model_name": "HTMLModel",
      "state": {
       "_dom_classes": [],
       "_model_module": "@jupyter-widgets/controls",
       "_model_module_version": "1.5.0",
       "_model_name": "HTMLModel",
       "_view_count": null,
       "_view_module": "@jupyter-widgets/controls",
       "_view_module_version": "1.5.0",
       "_view_name": "HTMLView",
       "description": "",
       "description_tooltip": null,
       "layout": "IPY_MODEL_ca53909e55194bfb98af3ab14bfd07ce",
       "placeholder": "​",
       "style": "IPY_MODEL_11fb709a0f874447a302682ea2d72e33",
       "value": "100%"
      }
     },
     "23f3952a9e4e4f0e9d290cb8ee4a4789": {
      "model_module": "@jupyter-widgets/base",
      "model_module_version": "1.2.0",
      "model_name": "LayoutModel",
      "state": {
       "_model_module": "@jupyter-widgets/base",
       "_model_module_version": "1.2.0",
       "_model_name": "LayoutModel",
       "_view_count": null,
       "_view_module": "@jupyter-widgets/base",
       "_view_module_version": "1.2.0",
       "_view_name": "LayoutView",
       "align_content": null,
       "align_items": null,
       "align_self": null,
       "border": null,
       "bottom": null,
       "display": null,
       "flex": null,
       "flex_flow": null,
       "grid_area": null,
       "grid_auto_columns": null,
       "grid_auto_flow": null,
       "grid_auto_rows": null,
       "grid_column": null,
       "grid_gap": null,
       "grid_row": null,
       "grid_template_areas": null,
       "grid_template_columns": null,
       "grid_template_rows": null,
       "height": null,
       "justify_content": null,
       "justify_items": null,
       "left": null,
       "margin": null,
       "max_height": null,
       "max_width": null,
       "min_height": null,
       "min_width": null,
       "object_fit": null,
       "object_position": null,
       "order": null,
       "overflow": null,
       "overflow_x": null,
       "overflow_y": null,
       "padding": null,
       "right": null,
       "top": null,
       "visibility": null,
       "width": null
      }
     },
     "2d91df6c29814c87a785df19a38b32ec": {
      "model_module": "@jupyter-widgets/base",
      "model_module_version": "1.2.0",
      "model_name": "LayoutModel",
      "state": {
       "_model_module": "@jupyter-widgets/base",
       "_model_module_version": "1.2.0",
       "_model_name": "LayoutModel",
       "_view_count": null,
       "_view_module": "@jupyter-widgets/base",
       "_view_module_version": "1.2.0",
       "_view_name": "LayoutView",
       "align_content": null,
       "align_items": null,
       "align_self": null,
       "border": null,
       "bottom": null,
       "display": null,
       "flex": null,
       "flex_flow": null,
       "grid_area": null,
       "grid_auto_columns": null,
       "grid_auto_flow": null,
       "grid_auto_rows": null,
       "grid_column": null,
       "grid_gap": null,
       "grid_row": null,
       "grid_template_areas": null,
       "grid_template_columns": null,
       "grid_template_rows": null,
       "height": null,
       "justify_content": null,
       "justify_items": null,
       "left": null,
       "margin": null,
       "max_height": null,
       "max_width": null,
       "min_height": null,
       "min_width": null,
       "object_fit": null,
       "object_position": null,
       "order": null,
       "overflow": null,
       "overflow_x": null,
       "overflow_y": null,
       "padding": null,
       "right": null,
       "top": null,
       "visibility": null,
       "width": null
      }
     },
     "3b71bbc7507842df8d4b2be4621be873": {
      "model_module": "@jupyter-widgets/controls",
      "model_module_version": "1.5.0",
      "model_name": "DescriptionStyleModel",
      "state": {
       "_model_module": "@jupyter-widgets/controls",
       "_model_module_version": "1.5.0",
       "_model_name": "DescriptionStyleModel",
       "_view_count": null,
       "_view_module": "@jupyter-widgets/base",
       "_view_module_version": "1.2.0",
       "_view_name": "StyleView",
       "description_width": ""
      }
     },
     "43eb4334b47e4fc79b8752bb3f138482": {
      "model_module": "@jupyter-widgets/controls",
      "model_module_version": "1.5.0",
      "model_name": "DescriptionStyleModel",
      "state": {
       "_model_module": "@jupyter-widgets/controls",
       "_model_module_version": "1.5.0",
       "_model_name": "DescriptionStyleModel",
       "_view_count": null,
       "_view_module": "@jupyter-widgets/base",
       "_view_module_version": "1.2.0",
       "_view_name": "StyleView",
       "description_width": ""
      }
     },
     "466a32126d694ea787b57b1cf248529a": {
      "model_module": "@jupyter-widgets/base",
      "model_module_version": "1.2.0",
      "model_name": "LayoutModel",
      "state": {
       "_model_module": "@jupyter-widgets/base",
       "_model_module_version": "1.2.0",
       "_model_name": "LayoutModel",
       "_view_count": null,
       "_view_module": "@jupyter-widgets/base",
       "_view_module_version": "1.2.0",
       "_view_name": "LayoutView",
       "align_content": null,
       "align_items": null,
       "align_self": null,
       "border": null,
       "bottom": null,
       "display": null,
       "flex": null,
       "flex_flow": null,
       "grid_area": null,
       "grid_auto_columns": null,
       "grid_auto_flow": null,
       "grid_auto_rows": null,
       "grid_column": null,
       "grid_gap": null,
       "grid_row": null,
       "grid_template_areas": null,
       "grid_template_columns": null,
       "grid_template_rows": null,
       "height": null,
       "justify_content": null,
       "justify_items": null,
       "left": null,
       "margin": null,
       "max_height": null,
       "max_width": null,
       "min_height": null,
       "min_width": null,
       "object_fit": null,
       "object_position": null,
       "order": null,
       "overflow": null,
       "overflow_x": null,
       "overflow_y": null,
       "padding": null,
       "right": null,
       "top": null,
       "visibility": null,
       "width": null
      }
     },
     "49cc57739a144e6e83d5dae161947223": {
      "model_module": "@jupyter-widgets/base",
      "model_module_version": "1.2.0",
      "model_name": "LayoutModel",
      "state": {
       "_model_module": "@jupyter-widgets/base",
       "_model_module_version": "1.2.0",
       "_model_name": "LayoutModel",
       "_view_count": null,
       "_view_module": "@jupyter-widgets/base",
       "_view_module_version": "1.2.0",
       "_view_name": "LayoutView",
       "align_content": null,
       "align_items": null,
       "align_self": null,
       "border": null,
       "bottom": null,
       "display": null,
       "flex": null,
       "flex_flow": null,
       "grid_area": null,
       "grid_auto_columns": null,
       "grid_auto_flow": null,
       "grid_auto_rows": null,
       "grid_column": null,
       "grid_gap": null,
       "grid_row": null,
       "grid_template_areas": null,
       "grid_template_columns": null,
       "grid_template_rows": null,
       "height": null,
       "justify_content": null,
       "justify_items": null,
       "left": null,
       "margin": null,
       "max_height": null,
       "max_width": null,
       "min_height": null,
       "min_width": null,
       "object_fit": null,
       "object_position": null,
       "order": null,
       "overflow": null,
       "overflow_x": null,
       "overflow_y": null,
       "padding": null,
       "right": null,
       "top": null,
       "visibility": null,
       "width": null
      }
     },
     "54e62a3d95b34329b6ea3ebf8197f1ac": {
      "model_module": "@jupyter-widgets/controls",
      "model_module_version": "1.5.0",
      "model_name": "DescriptionStyleModel",
      "state": {
       "_model_module": "@jupyter-widgets/controls",
       "_model_module_version": "1.5.0",
       "_model_name": "DescriptionStyleModel",
       "_view_count": null,
       "_view_module": "@jupyter-widgets/base",
       "_view_module_version": "1.2.0",
       "_view_name": "StyleView",
       "description_width": ""
      }
     },
     "55047a1de4a348079c9e14e0e2287705": {
      "model_module": "@jupyter-widgets/controls",
      "model_module_version": "1.5.0",
      "model_name": "ProgressStyleModel",
      "state": {
       "_model_module": "@jupyter-widgets/controls",
       "_model_module_version": "1.5.0",
       "_model_name": "ProgressStyleModel",
       "_view_count": null,
       "_view_module": "@jupyter-widgets/base",
       "_view_module_version": "1.2.0",
       "_view_name": "StyleView",
       "bar_color": null,
       "description_width": ""
      }
     },
     "5790acf2759b4ee4970e4c72c8b0f502": {
      "model_module": "@jupyter-widgets/controls",
      "model_module_version": "1.5.0",
      "model_name": "HBoxModel",
      "state": {
       "_dom_classes": [],
       "_model_module": "@jupyter-widgets/controls",
       "_model_module_version": "1.5.0",
       "_model_name": "HBoxModel",
       "_view_count": null,
       "_view_module": "@jupyter-widgets/controls",
       "_view_module_version": "1.5.0",
       "_view_name": "HBoxView",
       "box_style": "",
       "children": [
        "IPY_MODEL_1d3a65b98ed14ed5ba3909cfa45c3190",
        "IPY_MODEL_9893da68c2774ec790abf917606ed5b1",
        "IPY_MODEL_f019c5cf51d446e99e771b5a7b43cfef"
       ],
       "layout": "IPY_MODEL_f542d8c4ef824655800c3bd67207601f"
      }
     },
     "5e9895d067794abfb40f2c2598d3e2b7": {
      "model_module": "@jupyter-widgets/controls",
      "model_module_version": "1.5.0",
      "model_name": "HTMLModel",
      "state": {
       "_dom_classes": [],
       "_model_module": "@jupyter-widgets/controls",
       "_model_module_version": "1.5.0",
       "_model_name": "HTMLModel",
       "_view_count": null,
       "_view_module": "@jupyter-widgets/controls",
       "_view_module_version": "1.5.0",
       "_view_name": "HTMLView",
       "description": "",
       "description_tooltip": null,
       "layout": "IPY_MODEL_036cd4f8beb943fbabcb77b53b64970c",
       "placeholder": "​",
       "style": "IPY_MODEL_43eb4334b47e4fc79b8752bb3f138482",
       "value": " 200/200 [2:03:51&lt;00:00, 36.61s/it]"
      }
     },
     "65b01f87302f4de1a7464e3e59ad8001": {
      "model_module": "@jupyter-widgets/base",
      "model_module_version": "1.2.0",
      "model_name": "LayoutModel",
      "state": {
       "_model_module": "@jupyter-widgets/base",
       "_model_module_version": "1.2.0",
       "_model_name": "LayoutModel",
       "_view_count": null,
       "_view_module": "@jupyter-widgets/base",
       "_view_module_version": "1.2.0",
       "_view_name": "LayoutView",
       "align_content": null,
       "align_items": null,
       "align_self": null,
       "border": null,
       "bottom": null,
       "display": null,
       "flex": null,
       "flex_flow": null,
       "grid_area": null,
       "grid_auto_columns": null,
       "grid_auto_flow": null,
       "grid_auto_rows": null,
       "grid_column": null,
       "grid_gap": null,
       "grid_row": null,
       "grid_template_areas": null,
       "grid_template_columns": null,
       "grid_template_rows": null,
       "height": null,
       "justify_content": null,
       "justify_items": null,
       "left": null,
       "margin": null,
       "max_height": null,
       "max_width": null,
       "min_height": null,
       "min_width": null,
       "object_fit": null,
       "object_position": null,
       "order": null,
       "overflow": null,
       "overflow_x": null,
       "overflow_y": null,
       "padding": null,
       "right": null,
       "top": null,
       "visibility": null,
       "width": null
      }
     },
     "6780577c18c940a096e2d3936bd9a0e2": {
      "model_module": "@jupyter-widgets/base",
      "model_module_version": "1.2.0",
      "model_name": "LayoutModel",
      "state": {
       "_model_module": "@jupyter-widgets/base",
       "_model_module_version": "1.2.0",
       "_model_name": "LayoutModel",
       "_view_count": null,
       "_view_module": "@jupyter-widgets/base",
       "_view_module_version": "1.2.0",
       "_view_name": "LayoutView",
       "align_content": null,
       "align_items": null,
       "align_self": null,
       "border": null,
       "bottom": null,
       "display": null,
       "flex": null,
       "flex_flow": null,
       "grid_area": null,
       "grid_auto_columns": null,
       "grid_auto_flow": null,
       "grid_auto_rows": null,
       "grid_column": null,
       "grid_gap": null,
       "grid_row": null,
       "grid_template_areas": null,
       "grid_template_columns": null,
       "grid_template_rows": null,
       "height": null,
       "justify_content": null,
       "justify_items": null,
       "left": null,
       "margin": null,
       "max_height": null,
       "max_width": null,
       "min_height": null,
       "min_width": null,
       "object_fit": null,
       "object_position": null,
       "order": null,
       "overflow": null,
       "overflow_x": null,
       "overflow_y": null,
       "padding": null,
       "right": null,
       "top": null,
       "visibility": null,
       "width": null
      }
     },
     "900114b6c3ed48aba07af7b2e716c40f": {
      "model_module": "@jupyter-widgets/controls",
      "model_module_version": "1.5.0",
      "model_name": "ProgressStyleModel",
      "state": {
       "_model_module": "@jupyter-widgets/controls",
       "_model_module_version": "1.5.0",
       "_model_name": "ProgressStyleModel",
       "_view_count": null,
       "_view_module": "@jupyter-widgets/base",
       "_view_module_version": "1.2.0",
       "_view_name": "StyleView",
       "bar_color": null,
       "description_width": ""
      }
     },
     "9893da68c2774ec790abf917606ed5b1": {
      "model_module": "@jupyter-widgets/controls",
      "model_module_version": "1.5.0",
      "model_name": "FloatProgressModel",
      "state": {
       "_dom_classes": [],
       "_model_module": "@jupyter-widgets/controls",
       "_model_module_version": "1.5.0",
       "_model_name": "FloatProgressModel",
       "_view_count": null,
       "_view_module": "@jupyter-widgets/controls",
       "_view_module_version": "1.5.0",
       "_view_name": "ProgressView",
       "bar_style": "success",
       "description": "",
       "description_tooltip": null,
       "layout": "IPY_MODEL_6780577c18c940a096e2d3936bd9a0e2",
       "max": 40,
       "min": 0,
       "orientation": "horizontal",
       "style": "IPY_MODEL_900114b6c3ed48aba07af7b2e716c40f",
       "value": 40
      }
     },
     "a6cf1a1bc0d54e6da4ec7a1f67fc3e4c": {
      "model_module": "@jupyter-widgets/controls",
      "model_module_version": "1.5.0",
      "model_name": "HTMLModel",
      "state": {
       "_dom_classes": [],
       "_model_module": "@jupyter-widgets/controls",
       "_model_module_version": "1.5.0",
       "_model_name": "HTMLModel",
       "_view_count": null,
       "_view_module": "@jupyter-widgets/controls",
       "_view_module_version": "1.5.0",
       "_view_name": "HTMLView",
       "description": "",
       "description_tooltip": null,
       "layout": "IPY_MODEL_49cc57739a144e6e83d5dae161947223",
       "placeholder": "​",
       "style": "IPY_MODEL_f14d4c3424eb4423aeefb0fc1f239e41",
       "value": " 44.7M/44.7M [00:06&lt;00:00, 22.2MB/s]"
      }
     },
     "baa66b7d957944519367487b6f17d9b1": {
      "model_module": "@jupyter-widgets/base",
      "model_module_version": "1.2.0",
      "model_name": "LayoutModel",
      "state": {
       "_model_module": "@jupyter-widgets/base",
       "_model_module_version": "1.2.0",
       "_model_name": "LayoutModel",
       "_view_count": null,
       "_view_module": "@jupyter-widgets/base",
       "_view_module_version": "1.2.0",
       "_view_name": "LayoutView",
       "align_content": null,
       "align_items": null,
       "align_self": null,
       "border": null,
       "bottom": null,
       "display": null,
       "flex": null,
       "flex_flow": null,
       "grid_area": null,
       "grid_auto_columns": null,
       "grid_auto_flow": null,
       "grid_auto_rows": null,
       "grid_column": null,
       "grid_gap": null,
       "grid_row": null,
       "grid_template_areas": null,
       "grid_template_columns": null,
       "grid_template_rows": null,
       "height": null,
       "justify_content": null,
       "justify_items": null,
       "left": null,
       "margin": null,
       "max_height": null,
       "max_width": null,
       "min_height": null,
       "min_width": null,
       "object_fit": null,
       "object_position": null,
       "order": null,
       "overflow": null,
       "overflow_x": null,
       "overflow_y": null,
       "padding": null,
       "right": null,
       "top": null,
       "visibility": null,
       "width": null
      }
     },
     "c37e11f2c3504524b72783cd43c52b1a": {
      "model_module": "@jupyter-widgets/controls",
      "model_module_version": "1.5.0",
      "model_name": "HTMLModel",
      "state": {
       "_dom_classes": [],
       "_model_module": "@jupyter-widgets/controls",
       "_model_module_version": "1.5.0",
       "_model_name": "HTMLModel",
       "_view_count": null,
       "_view_module": "@jupyter-widgets/controls",
       "_view_module_version": "1.5.0",
       "_view_name": "HTMLView",
       "description": "",
       "description_tooltip": null,
       "layout": "IPY_MODEL_1b68c730357a45b99775ef0344702627",
       "placeholder": "​",
       "style": "IPY_MODEL_3b71bbc7507842df8d4b2be4621be873",
       "value": "100%"
      }
     },
     "ca53909e55194bfb98af3ab14bfd07ce": {
      "model_module": "@jupyter-widgets/base",
      "model_module_version": "1.2.0",
      "model_name": "LayoutModel",
      "state": {
       "_model_module": "@jupyter-widgets/base",
       "_model_module_version": "1.2.0",
       "_model_name": "LayoutModel",
       "_view_count": null,
       "_view_module": "@jupyter-widgets/base",
       "_view_module_version": "1.2.0",
       "_view_name": "LayoutView",
       "align_content": null,
       "align_items": null,
       "align_self": null,
       "border": null,
       "bottom": null,
       "display": null,
       "flex": null,
       "flex_flow": null,
       "grid_area": null,
       "grid_auto_columns": null,
       "grid_auto_flow": null,
       "grid_auto_rows": null,
       "grid_column": null,
       "grid_gap": null,
       "grid_row": null,
       "grid_template_areas": null,
       "grid_template_columns": null,
       "grid_template_rows": null,
       "height": null,
       "justify_content": null,
       "justify_items": null,
       "left": null,
       "margin": null,
       "max_height": null,
       "max_width": null,
       "min_height": null,
       "min_width": null,
       "object_fit": null,
       "object_position": null,
       "order": null,
       "overflow": null,
       "overflow_x": null,
       "overflow_y": null,
       "padding": null,
       "right": null,
       "top": null,
       "visibility": null,
       "width": null
      }
     },
     "d56d372ad3044162ba81da9e1b9255d6": {
      "model_module": "@jupyter-widgets/controls",
      "model_module_version": "1.5.0",
      "model_name": "DescriptionStyleModel",
      "state": {
       "_model_module": "@jupyter-widgets/controls",
       "_model_module_version": "1.5.0",
       "_model_name": "DescriptionStyleModel",
       "_view_count": null,
       "_view_module": "@jupyter-widgets/base",
       "_view_module_version": "1.2.0",
       "_view_name": "StyleView",
       "description_width": ""
      }
     },
     "d98db2f568e24c81b7581b6db3886e35": {
      "model_module": "@jupyter-widgets/controls",
      "model_module_version": "1.5.0",
      "model_name": "FloatProgressModel",
      "state": {
       "_dom_classes": [],
       "_model_module": "@jupyter-widgets/controls",
       "_model_module_version": "1.5.0",
       "_model_name": "FloatProgressModel",
       "_view_count": null,
       "_view_module": "@jupyter-widgets/controls",
       "_view_module_version": "1.5.0",
       "_view_name": "ProgressView",
       "bar_style": "success",
       "description": "",
       "description_tooltip": null,
       "layout": "IPY_MODEL_f59d05721ae94a359870dae6bcf13fca",
       "max": 46827520,
       "min": 0,
       "orientation": "horizontal",
       "style": "IPY_MODEL_55047a1de4a348079c9e14e0e2287705",
       "value": 46827520
      }
     },
     "e74e7b5acca14fee9e95cf603688c7dc": {
      "model_module": "@jupyter-widgets/controls",
      "model_module_version": "1.5.0",
      "model_name": "ProgressStyleModel",
      "state": {
       "_model_module": "@jupyter-widgets/controls",
       "_model_module_version": "1.5.0",
       "_model_name": "ProgressStyleModel",
       "_view_count": null,
       "_view_module": "@jupyter-widgets/base",
       "_view_module_version": "1.2.0",
       "_view_name": "StyleView",
       "bar_color": null,
       "description_width": ""
      }
     },
     "f019c5cf51d446e99e771b5a7b43cfef": {
      "model_module": "@jupyter-widgets/controls",
      "model_module_version": "1.5.0",
      "model_name": "HTMLModel",
      "state": {
       "_dom_classes": [],
       "_model_module": "@jupyter-widgets/controls",
       "_model_module_version": "1.5.0",
       "_model_name": "HTMLModel",
       "_view_count": null,
       "_view_module": "@jupyter-widgets/controls",
       "_view_module_version": "1.5.0",
       "_view_name": "HTMLView",
       "description": "",
       "description_tooltip": null,
       "layout": "IPY_MODEL_2d91df6c29814c87a785df19a38b32ec",
       "placeholder": "​",
       "style": "IPY_MODEL_d56d372ad3044162ba81da9e1b9255d6",
       "value": " 40/40 [01:35&lt;00:00,  1.66s/it]"
      }
     },
     "f14d4c3424eb4423aeefb0fc1f239e41": {
      "model_module": "@jupyter-widgets/controls",
      "model_module_version": "1.5.0",
      "model_name": "DescriptionStyleModel",
      "state": {
       "_model_module": "@jupyter-widgets/controls",
       "_model_module_version": "1.5.0",
       "_model_name": "DescriptionStyleModel",
       "_view_count": null,
       "_view_module": "@jupyter-widgets/base",
       "_view_module_version": "1.2.0",
       "_view_name": "StyleView",
       "description_width": ""
      }
     },
     "f542d8c4ef824655800c3bd67207601f": {
      "model_module": "@jupyter-widgets/base",
      "model_module_version": "1.2.0",
      "model_name": "LayoutModel",
      "state": {
       "_model_module": "@jupyter-widgets/base",
       "_model_module_version": "1.2.0",
       "_model_name": "LayoutModel",
       "_view_count": null,
       "_view_module": "@jupyter-widgets/base",
       "_view_module_version": "1.2.0",
       "_view_name": "LayoutView",
       "align_content": null,
       "align_items": null,
       "align_self": null,
       "border": null,
       "bottom": null,
       "display": null,
       "flex": null,
       "flex_flow": null,
       "grid_area": null,
       "grid_auto_columns": null,
       "grid_auto_flow": null,
       "grid_auto_rows": null,
       "grid_column": null,
       "grid_gap": null,
       "grid_row": null,
       "grid_template_areas": null,
       "grid_template_columns": null,
       "grid_template_rows": null,
       "height": null,
       "justify_content": null,
       "justify_items": null,
       "left": null,
       "margin": null,
       "max_height": null,
       "max_width": null,
       "min_height": null,
       "min_width": null,
       "object_fit": null,
       "object_position": null,
       "order": null,
       "overflow": null,
       "overflow_x": null,
       "overflow_y": null,
       "padding": null,
       "right": null,
       "top": null,
       "visibility": null,
       "width": null
      }
     },
     "f59d05721ae94a359870dae6bcf13fca": {
      "model_module": "@jupyter-widgets/base",
      "model_module_version": "1.2.0",
      "model_name": "LayoutModel",
      "state": {
       "_model_module": "@jupyter-widgets/base",
       "_model_module_version": "1.2.0",
       "_model_name": "LayoutModel",
       "_view_count": null,
       "_view_module": "@jupyter-widgets/base",
       "_view_module_version": "1.2.0",
       "_view_name": "LayoutView",
       "align_content": null,
       "align_items": null,
       "align_self": null,
       "border": null,
       "bottom": null,
       "display": null,
       "flex": null,
       "flex_flow": null,
       "grid_area": null,
       "grid_auto_columns": null,
       "grid_auto_flow": null,
       "grid_auto_rows": null,
       "grid_column": null,
       "grid_gap": null,
       "grid_row": null,
       "grid_template_areas": null,
       "grid_template_columns": null,
       "grid_template_rows": null,
       "height": null,
       "justify_content": null,
       "justify_items": null,
       "left": null,
       "margin": null,
       "max_height": null,
       "max_width": null,
       "min_height": null,
       "min_width": null,
       "object_fit": null,
       "object_position": null,
       "order": null,
       "overflow": null,
       "overflow_x": null,
       "overflow_y": null,
       "padding": null,
       "right": null,
       "top": null,
       "visibility": null,
       "width": null
      }
     }
    },
    "version_major": 2,
    "version_minor": 0
   }
  }
 },
 "nbformat": 4,
 "nbformat_minor": 5
}
